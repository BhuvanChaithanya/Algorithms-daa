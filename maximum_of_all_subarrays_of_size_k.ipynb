{
  "nbformat": 4,
  "nbformat_minor": 0,
  "metadata": {
    "colab": {
      "provenance": [],
      "authorship_tag": "ABX9TyN+AHkjPHSuNyw6q8nOlE6/",
      "include_colab_link": true
    },
    "kernelspec": {
      "name": "python3",
      "display_name": "Python 3"
    },
    "language_info": {
      "name": "python"
    }
  },
  "cells": [
    {
      "cell_type": "markdown",
      "metadata": {
        "id": "view-in-github",
        "colab_type": "text"
      },
      "source": [
        "<a href=\"https://colab.research.google.com/github/BhuvanChaithanya/Algorithms-daa/blob/main/maximum_of_all_subarrays_of_size_k.ipynb\" target=\"_parent\"><img src=\"https://colab.research.google.com/assets/colab-badge.svg\" alt=\"Open In Colab\"/></a>"
      ]
    },
    {
      "cell_type": "code",
      "execution_count": 1,
      "metadata": {
        "id": "Z0hmJraW37vL"
      },
      "outputs": [],
      "source": [
        "def max_of_subarrays(self,arr, n, k):\n",
        "        result = []\n",
        "\n",
        "        # Create a deque to store indices of elements\n",
        "        dq = deque()\n",
        "\n",
        "        #to get the first largest element\n",
        "        for i in range(k):\n",
        "            while dq and arr[i] >= arr[dq[-1]]:\n",
        "                dq.pop()\n",
        "            dq.append(i)\n",
        "\n",
        "        #rest largest element\n",
        "        for i in range(k, n):\n",
        "            result.append(arr[dq[0]])\n",
        "\n",
        "            while dq and dq[0] <= i - k:\n",
        "                dq.popleft()\n",
        "\n",
        "            while dq and arr[i] >= arr[dq[-1]]:\n",
        "                dq.pop()\n",
        "\n",
        "            dq.append(i)\n",
        "\n",
        "        result.append(arr[dq[0]])\n",
        "\n",
        "        return result"
      ]
    },
    {
      "cell_type": "code",
      "source": [],
      "metadata": {
        "id": "9nAwcpPB38Qm"
      },
      "execution_count": null,
      "outputs": []
    }
  ]
}