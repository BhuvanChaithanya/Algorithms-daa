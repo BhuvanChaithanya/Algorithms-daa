{
  "nbformat": 4,
  "nbformat_minor": 0,
  "metadata": {
    "colab": {
      "provenance": [],
      "authorship_tag": "ABX9TyM/baZr/XMor28wNvcDEui6",
      "include_colab_link": true
    },
    "kernelspec": {
      "name": "python3",
      "display_name": "Python 3"
    },
    "language_info": {
      "name": "python"
    }
  },
  "cells": [
    {
      "cell_type": "markdown",
      "metadata": {
        "id": "view-in-github",
        "colab_type": "text"
      },
      "source": [
        "<a href=\"https://colab.research.google.com/github/BhuvanChaithanya/Algorithms-daa/blob/main/Implement_lower_bound_(binary_search).ipynb\" target=\"_parent\"><img src=\"https://colab.research.google.com/assets/colab-badge.svg\" alt=\"Open In Colab\"/></a>"
      ]
    },
    {
      "cell_type": "code",
      "execution_count": 1,
      "metadata": {
        "id": "0ErQv84cKHPI"
      },
      "outputs": [],
      "source": [
        "def lowerBound(arr: [int], n: int, x: int) -> int:\n",
        "    minx = len(arr)\n",
        "    low = 0\n",
        "    high = len(arr)-1\n",
        "    while(low <= high):\n",
        "        mid = (low + high)//2\n",
        "\n",
        "        if arr[mid] >= x:\n",
        "            high = mid -1\n",
        "            minx = min(mid, minx)\n",
        "\n",
        "\n",
        "        elif arr[mid] <= x:\n",
        "            low = mid +1\n",
        "\n",
        "    return minx"
      ]
    },
    {
      "cell_type": "code",
      "source": [],
      "metadata": {
        "id": "2zKoihmLKTjQ"
      },
      "execution_count": null,
      "outputs": []
    }
  ]
}