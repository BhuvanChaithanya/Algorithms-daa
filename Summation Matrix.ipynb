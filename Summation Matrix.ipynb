class Solution:
    def sumMatrix(self, n, q):
        if n*2 < q:
            return 0
        else:
            return n - abs(n+1 - q)
