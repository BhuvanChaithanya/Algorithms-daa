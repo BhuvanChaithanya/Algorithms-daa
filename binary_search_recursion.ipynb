{
  "nbformat": 4,
  "nbformat_minor": 0,
  "metadata": {
    "colab": {
      "provenance": [],
      "authorship_tag": "ABX9TyP0jDpbHZtdJTTrO4kD1U5G",
      "include_colab_link": true
    },
    "kernelspec": {
      "name": "python3",
      "display_name": "Python 3"
    },
    "language_info": {
      "name": "python"
    }
  },
  "cells": [
    {
      "cell_type": "markdown",
      "metadata": {
        "id": "view-in-github",
        "colab_type": "text"
      },
      "source": [
        "<a href=\"https://colab.research.google.com/github/BhuvanChaithanya/Algorithms-daa/blob/main/binary_search_recursion.ipynb\" target=\"_parent\"><img src=\"https://colab.research.google.com/assets/colab-badge.svg\" alt=\"Open In Colab\"/></a>"
      ]
    },
    {
      "cell_type": "code",
      "execution_count": 1,
      "metadata": {
        "id": "0vgOqFxq_5Ak"
      },
      "outputs": [],
      "source": [
        "def search(nums: [int], target: int):\n",
        "    low = 0\n",
        "    high =len(nums) -1\n",
        "\n",
        "    while(low <= high):\n",
        "        mid = (low+high)//2\n",
        "\n",
        "        if nums[mid] == target:\n",
        "            return mid\n",
        "\n",
        "        elif target > nums[mid]:\n",
        "            low = mid +1\n",
        "        else:\n",
        "            high = mid-1\n",
        "\n",
        "    return -1\n"
      ]
    },
    {
      "cell_type": "code",
      "source": [
        "def bsearch(nums: [int], low, high,target):\n",
        "  if (low > high):\n",
        "    return -1\n",
        "\n",
        "  mid = (low+high)//2\n",
        "\n",
        "  if (nums[mid] == target):\n",
        "    return mid\n",
        "\n",
        "  elif target > nums[mid]:\n",
        "    return bsearch(nums, mid+1, high,target)\n",
        "\n",
        "  else:\n",
        "    return bsearch(nums,low, high-1)\n",
        "\n",
        "\n"
      ],
      "metadata": {
        "id": "vXbXhCDoAdBc"
      },
      "execution_count": 9,
      "outputs": []
    },
    {
      "cell_type": "code",
      "source": [
        "nums = [1,2,3,4,5,6,7,8,9]\n",
        "target = 8\n",
        "low = 0\n",
        "high = 8\n",
        "bsearch(nums,low,high,target)"
      ],
      "metadata": {
        "colab": {
          "base_uri": "https://localhost:8080/"
        },
        "id": "7Gi7NOdDBSX6",
        "outputId": "e7dde4e8-49fb-4313-95d6-9a9099bfa4ff"
      },
      "execution_count": 10,
      "outputs": [
        {
          "output_type": "execute_result",
          "data": {
            "text/plain": [
              "7"
            ]
          },
          "metadata": {},
          "execution_count": 10
        }
      ]
    },
    {
      "cell_type": "code",
      "source": [],
      "metadata": {
        "id": "sFfGZBFaDpXD"
      },
      "execution_count": null,
      "outputs": []
    }
  ]
}