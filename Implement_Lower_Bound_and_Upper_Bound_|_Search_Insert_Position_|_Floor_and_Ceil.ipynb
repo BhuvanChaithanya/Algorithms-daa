{
  "nbformat": 4,
  "nbformat_minor": 0,
  "metadata": {
    "colab": {
      "provenance": [],
      "authorship_tag": "ABX9TyMmQBG49V3C0fHmFlzNIzO7",
      "include_colab_link": true
    },
    "kernelspec": {
      "name": "python3",
      "display_name": "Python 3"
    },
    "language_info": {
      "name": "python"
    }
  },
  "cells": [
    {
      "cell_type": "markdown",
      "metadata": {
        "id": "view-in-github",
        "colab_type": "text"
      },
      "source": [
        "<a href=\"https://colab.research.google.com/github/BhuvanChaithanya/Algorithms-daa/blob/main/Implement_Lower_Bound_and_Upper_Bound_%7C_Search_Insert_Position_%7C_Floor_and_Ceil.ipynb\" target=\"_parent\"><img src=\"https://colab.research.google.com/assets/colab-badge.svg\" alt=\"Open In Colab\"/></a>"
      ]
    },
    {
      "cell_type": "code",
      "execution_count": 1,
      "metadata": {
        "id": "kgknqd0Q-thl"
      },
      "outputs": [],
      "source": [
        "def lowerBound(arr: [int], n: int, x: int) -> int:\n",
        "    # Write your code here\n",
        "    ans = len(arr)\n",
        "    low = 0\n",
        "    high = len(arr) -1\n",
        "    while(low<=high):\n",
        "        mid = (low +high)//2\n",
        "\n",
        "        if(arr[mid]>= x):\n",
        "            ans = mid\n",
        "            high = mid-1\n",
        "\n",
        "        else:\n",
        "            low = mid +1\n",
        "\n",
        "    return ans\n",
        "    pass"
      ]
    },
    {
      "cell_type": "code",
      "source": [
        "def upperBound(arr: [int], x: int, n: int) -> int:\n",
        "    ans = len(arr)\n",
        "    low =0\n",
        "    high = len(arr)-1\n",
        "\n",
        "    while (low <= high):\n",
        "        mid = (low+high)//2\n",
        "        if (arr[mid]>x):\n",
        "            ans = mid\n",
        "            high = mid-1\n",
        "\n",
        "        else:\n",
        "            low = mid+1\n",
        "\n",
        "    return ans"
      ],
      "metadata": {
        "id": "Yy1KEJ6o-voy"
      },
      "execution_count": 2,
      "outputs": []
    },
    {
      "cell_type": "code",
      "source": [
        "def searchInsert(arr: [int], m: int) -> int:\n",
        "    ans = len(arr)\n",
        "    low =0\n",
        "    high = len(arr)-1\n",
        "    while(low<=high):\n",
        "        mid = (low+high)//2\n",
        "        if(arr[mid]>=m):\n",
        "            ans = mid\n",
        "            high = mid-1\n",
        "\n",
        "        else:\n",
        "            low = mid+1\n",
        "    return ans"
      ],
      "metadata": {
        "id": "z_FdrdKQBBeH"
      },
      "execution_count": 3,
      "outputs": []
    },
    {
      "cell_type": "code",
      "source": [
        "def getFloorAndCeil(a, n, x):\n",
        "    low = 0\n",
        "    high = len(a)-1\n",
        "    ceil = -1\n",
        "    floor = -1\n",
        "    while(low <= high):\n",
        "        mid = (low+high)//2\n",
        "        if (a[mid]<= x):\n",
        "            floor = a[mid]\n",
        "            low = mid+1\n",
        "        else:\n",
        "            high = mid-1\n",
        "\n",
        "    low =0\n",
        "    high = len(a)-1\n",
        "    while(low<=high):\n",
        "        mid = (low+high)//2\n",
        "        if(a[mid] >= x):\n",
        "            ceil = a[mid]\n",
        "            high = mid-1\n",
        "        else:\n",
        "            low = mid +1\n",
        "\n",
        "    return floor, ceil"
      ],
      "metadata": {
        "id": "bZHKBZ9CDcAm"
      },
      "execution_count": 4,
      "outputs": []
    },
    {
      "cell_type": "code",
      "source": [],
      "metadata": {
        "id": "2xnZoXx9FyFE"
      },
      "execution_count": null,
      "outputs": []
    }
  ]
}