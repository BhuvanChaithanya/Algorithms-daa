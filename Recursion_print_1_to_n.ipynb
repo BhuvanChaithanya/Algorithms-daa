{
  "nbformat": 4,
  "nbformat_minor": 0,
  "metadata": {
    "colab": {
      "provenance": [],
      "authorship_tag": "ABX9TyNzRL3h4JiFGJTVZW4FDyLL",
      "include_colab_link": true
    },
    "kernelspec": {
      "name": "python3",
      "display_name": "Python 3"
    },
    "language_info": {
      "name": "python"
    }
  },
  "cells": [
    {
      "cell_type": "markdown",
      "metadata": {
        "id": "view-in-github",
        "colab_type": "text"
      },
      "source": [
        "<a href=\"https://colab.research.google.com/github/BhuvanChaithanya/Algorithms-daa/blob/main/Recursion_print_1_to_n.ipynb\" target=\"_parent\"><img src=\"https://colab.research.google.com/assets/colab-badge.svg\" alt=\"Open In Colab\"/></a>"
      ]
    },
    {
      "cell_type": "code",
      "execution_count": 1,
      "metadata": {
        "id": "pEG37YWUEetc"
      },
      "outputs": [],
      "source": [
        "from  typing import *\n",
        "\n",
        "def printNtimes(n: int) -> List[str]:\n",
        "    if n == 0:\n",
        "        return[]\n",
        "    else:\n",
        "        print(\"Coding Ninjas\", end=' ')\n",
        "        return printNtimes(n-1)\n",
        "\n",
        "    pass"
      ]
    },
    {
      "cell_type": "code",
      "source": [],
      "metadata": {
        "id": "yRzD3_u5Ehfu"
      },
      "execution_count": null,
      "outputs": []
    }
  ]
}