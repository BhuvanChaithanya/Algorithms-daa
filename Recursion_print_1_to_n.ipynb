{
  "nbformat": 4,
  "nbformat_minor": 0,
  "metadata": {
    "colab": {
      "provenance": [],
      "authorship_tag": "ABX9TyOnimjwOrEOYDd0S5aYfKSX",
      "include_colab_link": true
    },
    "kernelspec": {
      "name": "python3",
      "display_name": "Python 3"
    },
    "language_info": {
      "name": "python"
    }
  },
  "cells": [
    {
      "cell_type": "markdown",
      "metadata": {
        "id": "view-in-github",
        "colab_type": "text"
      },
      "source": [
        "<a href=\"https://colab.research.google.com/github/BhuvanChaithanya/Algorithms-daa/blob/main/Recursion_print_1_to_n.ipynb\" target=\"_parent\"><img src=\"https://colab.research.google.com/assets/colab-badge.svg\" alt=\"Open In Colab\"/></a>"
      ]
    },
    {
      "cell_type": "code",
      "execution_count": 1,
      "metadata": {
        "id": "pEG37YWUEetc"
      },
      "outputs": [],
      "source": [
        "from  typing import *\n",
        "\n",
        "def printNtimes(n: int) -> List[str]:\n",
        "    if n == 0:\n",
        "        return[]\n",
        "    else:\n",
        "        print(\"Coding Ninjas\", end=' ')\n",
        "        return printNtimes(n-1)\n",
        "\n",
        "    pass"
      ]
    },
    {
      "cell_type": "code",
      "source": [
        "from typing import List\n",
        "\n",
        "def printNos(x: int) -> List[int]:\n",
        "    # Write your code here\n",
        "    if x == 0:\n",
        "        return []\n",
        "    else:\n",
        "\n",
        "        return printNos(x-1) + [x]\n",
        "    pass"
      ],
      "metadata": {
        "id": "yRzD3_u5Ehfu"
      },
      "execution_count": 2,
      "outputs": []
    },
    {
      "cell_type": "code",
      "source": [
        "from typing import List\n",
        "\n",
        "def sumFirstN(n: int) -> int:\n",
        "    # Write your code here.\n",
        "    if n == 0:\n",
        "        return 0\n",
        "    else:\n",
        "        return sumFirstN(n-1) +n\n",
        "    pass"
      ],
      "metadata": {
        "id": "844LZEOHIKJB"
      },
      "execution_count": 3,
      "outputs": []
    },
    {
      "cell_type": "code",
      "source": [],
      "metadata": {
        "id": "kFoXLKbIKPOn"
      },
      "execution_count": null,
      "outputs": []
    }
  ]
}