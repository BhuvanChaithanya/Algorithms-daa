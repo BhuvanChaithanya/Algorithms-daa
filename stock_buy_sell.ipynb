{
  "nbformat": 4,
  "nbformat_minor": 0,
  "metadata": {
    "colab": {
      "provenance": [],
      "authorship_tag": "ABX9TyPsd7EsNLWfXMRg8DvHJO4a",
      "include_colab_link": true
    },
    "kernelspec": {
      "name": "python3",
      "display_name": "Python 3"
    },
    "language_info": {
      "name": "python"
    }
  },
  "cells": [
    {
      "cell_type": "markdown",
      "metadata": {
        "id": "view-in-github",
        "colab_type": "text"
      },
      "source": [
        "<a href=\"https://colab.research.google.com/github/BhuvanChaithanya/Algorithms-daa/blob/main/Untitled16.ipynb\" target=\"_parent\"><img src=\"https://colab.research.google.com/assets/colab-badge.svg\" alt=\"Open In Colab\"/></a>"
      ]
    },
    {
      "cell_type": "code",
      "execution_count": null,
      "metadata": {
        "id": "Qxex0V0nuHX1"
      },
      "outputs": [],
      "source": [
        "def bestTimeToBuyAndSellStock(prices: [int]) -> int:\n",
        "    min1 =float('inf')\n",
        "    max1 = 0\n",
        "    for i in range(len(prices)):\n",
        "        if prices[i] < min1:\n",
        "            min1 = prices[i]\n",
        "\n",
        "        if prices[i] - min1 >= max1:\n",
        "            max1 = prices[i] - min1\n",
        "\n",
        "    return max1"
      ]
    },
    {
      "cell_type": "code",
      "source": [],
      "metadata": {
        "id": "c1Tfs0UYuKUr"
      },
      "execution_count": null,
      "outputs": []
    }
  ]
}
