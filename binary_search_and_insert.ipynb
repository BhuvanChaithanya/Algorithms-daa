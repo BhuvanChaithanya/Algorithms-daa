{
  "nbformat": 4,
  "nbformat_minor": 0,
  "metadata": {
    "colab": {
      "provenance": [],
      "authorship_tag": "ABX9TyMVSCccvLmjPYo8Ibi9hbjd",
      "include_colab_link": true
    },
    "kernelspec": {
      "name": "python3",
      "display_name": "Python 3"
    },
    "language_info": {
      "name": "python"
    }
  },
  "cells": [
    {
      "cell_type": "markdown",
      "metadata": {
        "id": "view-in-github",
        "colab_type": "text"
      },
      "source": [
        "<a href=\"https://colab.research.google.com/github/BhuvanChaithanya/Algorithms-daa/blob/main/binary_search_and_insert.ipynb\" target=\"_parent\"><img src=\"https://colab.research.google.com/assets/colab-badge.svg\" alt=\"Open In Colab\"/></a>"
      ]
    },
    {
      "cell_type": "code",
      "execution_count": 1,
      "metadata": {
        "id": "TXFf596tkqWN"
      },
      "outputs": [],
      "source": [
        "def searchInsert(arr: [int], m: int) -> int:\n",
        "    # Write your code here.\n",
        "    low = 0\n",
        "    high = len(arr)-1\n",
        "    pos = len(arr)\n",
        "    while (low<=high):\n",
        "        mid = (low+high)//2\n",
        "        if(arr[mid] >= m):\n",
        "            pos = mid\n",
        "            high = mid-1\n",
        "\n",
        "        else:\n",
        "            low = mid+1\n",
        "\n",
        "    return pos\n",
        "\n",
        "    pass\n"
      ]
    },
    {
      "cell_type": "code",
      "source": [],
      "metadata": {
        "id": "WFf6PYP1nj0w"
      },
      "execution_count": null,
      "outputs": []
    }
  ]
}