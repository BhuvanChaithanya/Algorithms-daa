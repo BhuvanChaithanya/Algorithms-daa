{
  "nbformat": 4,
  "nbformat_minor": 0,
  "metadata": {
    "colab": {
      "provenance": [],
      "authorship_tag": "ABX9TyOYLxLp3aHMSF9RfhdTnqHW",
      "include_colab_link": true
    },
    "kernelspec": {
      "name": "python3",
      "display_name": "Python 3"
    },
    "language_info": {
      "name": "python"
    }
  },
  "cells": [
    {
      "cell_type": "markdown",
      "metadata": {
        "id": "view-in-github",
        "colab_type": "text"
      },
      "source": [
        "<a href=\"https://colab.research.google.com/github/BhuvanChaithanya/Algorithms-daa/blob/main/find_the_missing_number.ipynb\" target=\"_parent\"><img src=\"https://colab.research.google.com/assets/colab-badge.svg\" alt=\"Open In Colab\"/></a>"
      ]
    },
    {
      "cell_type": "code",
      "execution_count": null,
      "metadata": {
        "id": "2QrRGFVVoS7X"
      },
      "outputs": [],
      "source": [
        "def moveZeros(n: int,  a: [int]) -> [int]:\n",
        "    # Write your code here.\n",
        "    j = -1\n",
        "    for i in  range(n):\n",
        "        if a[i] == 0:\n",
        "            j = i\n",
        "            break\n",
        "\n",
        "    if j == -1:\n",
        "        return a\n",
        "\n",
        "    for i in range(j+1,n):\n",
        "        if a[i] != 0:\n",
        "            a[i], a[j] = a[j], a[i]\n",
        "            j+=1\n",
        "\n",
        "    return a\n",
        "    pass"
      ]
    },
    {
      "cell_type": "code",
      "source": [
        "a = [1,2,3,4,5,6]\n",
        "l = len(a)\n",
        "print(l)"
      ],
      "metadata": {
        "colab": {
          "base_uri": "https://localhost:8080/"
        },
        "id": "rEyhbfJloWms",
        "outputId": "02a773aa-52da-463e-87ea-016e2b5c4fbc"
      },
      "execution_count": null,
      "outputs": [
        {
          "output_type": "stream",
          "name": "stdout",
          "text": [
            "6\n"
          ]
        }
      ]
    },
    {
      "cell_type": "code",
      "source": [
        "def read(n: int, book: [int], target: int) -> str:\n",
        "    # Write your code here.\n",
        "    seen = {}\n",
        "\n",
        "    for i,num in enumerate(book):\n",
        "        if target - num in seen:\n",
        "            return  \"YES\"\n",
        "\n",
        "        elif num not in seen:\n",
        "            seen[num] = i\n",
        "\n",
        "    return \"NO\"\n",
        "\n",
        "\n",
        "\n",
        "    pass"
      ],
      "metadata": {
        "id": "nKEzWC4or9LR"
      },
      "execution_count": 1,
      "outputs": []
    },
    {
      "cell_type": "code",
      "source": [],
      "metadata": {
        "id": "BTlw6HHNtRaa"
      },
      "execution_count": 1,
      "outputs": []
    },
    {
      "cell_type": "code",
      "source": [],
      "metadata": {
        "id": "cg7l8KcNtvD5"
      },
      "execution_count": 1,
      "outputs": []
    },
    {
      "cell_type": "code",
      "source": [],
      "metadata": {
        "id": "HQZssp-ItyY9"
      },
      "execution_count": null,
      "outputs": []
    }
  ]
}