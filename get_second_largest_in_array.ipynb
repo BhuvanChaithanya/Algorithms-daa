{
  "nbformat": 4,
  "nbformat_minor": 0,
  "metadata": {
    "colab": {
      "provenance": [],
      "authorship_tag": "ABX9TyPDY+UeKW3mq8ch52GcKM6S",
      "include_colab_link": true
    },
    "kernelspec": {
      "name": "python3",
      "display_name": "Python 3"
    },
    "language_info": {
      "name": "python"
    }
  },
  "cells": [
    {
      "cell_type": "markdown",
      "metadata": {
        "id": "view-in-github",
        "colab_type": "text"
      },
      "source": [
        "<a href=\"https://colab.research.google.com/github/BhuvanChaithanya/Algorithms-daa/blob/main/get_second_largest_in_array.ipynb\" target=\"_parent\"><img src=\"https://colab.research.google.com/assets/colab-badge.svg\" alt=\"Open In Colab\"/></a>"
      ]
    },
    {
      "cell_type": "code",
      "execution_count": null,
      "metadata": {
        "id": "BtIxHla6iL7M"
      },
      "outputs": [],
      "source": [
        "def getSecondOrderElements(n: int,  a: [int]) -> [int]:\n",
        "    # Write your code here.\n",
        "    max1 = float('-inf')\n",
        "    min1 = float('inf')\n",
        "    for num in a:\n",
        "        if num >= max1:\n",
        "            max1 = num\n",
        "\n",
        "        if num <= min1:\n",
        "            min1 = num\n",
        "    max2 = float('-inf')\n",
        "    min2 = float('inf')\n",
        "    for z in a:\n",
        "        if z >= max2 and z != max1:\n",
        "            max2 = z\n",
        "        if z <= min2 and z!= min1:\n",
        "            min2 = z\n",
        "\n",
        "    return max2, min2\n",
        "\n",
        "\n",
        "    pass"
      ]
    },
    {
      "cell_type": "code",
      "source": [
        "\n"
      ],
      "metadata": {
        "id": "6dJPwVn8Qor1"
      },
      "execution_count": null,
      "outputs": []
    },
    {
      "cell_type": "code",
      "source": [],
      "metadata": {
        "id": "Xprq7vnVSjHI"
      },
      "execution_count": null,
      "outputs": []
    }
  ]
}