{
  "nbformat": 4,
  "nbformat_minor": 0,
  "metadata": {
    "colab": {
      "provenance": [],
      "authorship_tag": "ABX9TyMBMGc+xLCnqJEb3bnj2HO3",
      "include_colab_link": true
    },
    "kernelspec": {
      "name": "python3",
      "display_name": "Python 3"
    },
    "language_info": {
      "name": "python"
    }
  },
  "cells": [
    {
      "cell_type": "markdown",
      "metadata": {
        "id": "view-in-github",
        "colab_type": "text"
      },
      "source": [
        "<a href=\"https://colab.research.google.com/github/BhuvanChaithanya/Algorithms-daa/blob/main/recursive_fibinacci.ipynb\" target=\"_parent\"><img src=\"https://colab.research.google.com/assets/colab-badge.svg\" alt=\"Open In Colab\"/></a>"
      ]
    },
    {
      "cell_type": "code",
      "execution_count": 1,
      "metadata": {
        "colab": {
          "base_uri": "https://localhost:8080/"
        },
        "id": "wGO2FuPVd4bj",
        "outputId": "4b234cfb-deec-4e1b-ab6d-39849559488c"
      },
      "outputs": [
        {
          "output_type": "stream",
          "name": "stdout",
          "text": [
            "8\n"
          ]
        }
      ],
      "source": [
        "def fib(n):\n",
        "\n",
        "\n",
        "    # Base case\n",
        "    if (n <= 1):\n",
        "        return n\n",
        "\n",
        "    # recursive calls\n",
        "    return fib(n - 1) + fib(n - 2)\n",
        "\n",
        "# Driver Code\n",
        "if __name__=='__main__':\n",
        "    n = 6\n",
        "    print (fib(n))"
      ]
    },
    {
      "cell_type": "code",
      "source": [],
      "metadata": {
        "id": "U4XKiqGQeCbE"
      },
      "execution_count": null,
      "outputs": []
    }
  ]
}