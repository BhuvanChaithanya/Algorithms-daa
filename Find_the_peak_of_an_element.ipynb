{
  "nbformat": 4,
  "nbformat_minor": 0,
  "metadata": {
    "colab": {
      "provenance": [],
      "authorship_tag": "ABX9TyNjzYBNC6p+jfj7qJ8/HRy3",
      "include_colab_link": true
    },
    "kernelspec": {
      "name": "python3",
      "display_name": "Python 3"
    },
    "language_info": {
      "name": "python"
    }
  },
  "cells": [
    {
      "cell_type": "markdown",
      "metadata": {
        "id": "view-in-github",
        "colab_type": "text"
      },
      "source": [
        "<a href=\"https://colab.research.google.com/github/BhuvanChaithanya/Algorithms-daa/blob/main/Find_the_peak_of_an_element.ipynb\" target=\"_parent\"><img src=\"https://colab.research.google.com/assets/colab-badge.svg\" alt=\"Open In Colab\"/></a>"
      ]
    },
    {
      "cell_type": "code",
      "execution_count": 2,
      "metadata": {
        "id": "DeGpwBnyyBt8"
      },
      "outputs": [],
      "source": [
        "def singleNonDuplicate(arr):\n",
        "    # Write your code here\n",
        "    n = len(arr)\n",
        "    if n == 1:\n",
        "        return arr[0]\n",
        "\n",
        "    if (arr[0] != arr[1]):\n",
        "        return arr[0]\n",
        "\n",
        "    if (arr[n-1] !=  arr[n-2]):\n",
        "        return arr[n-1]\n",
        "\n",
        "    low = 1\n",
        "    high = n-2\n",
        "\n",
        "    while (low <= high):\n",
        "        mid = (low +high)//2\n",
        "\n",
        "        if (arr[mid] != arr[mid +1] and arr[mid] != arr[mid-1]):\n",
        "            return arr[mid]\n",
        "\n",
        "        if (mid %2 == 1 and arr[mid]== arr [mid-1]) or (mid%2 == 0 and arr[mid]== arr[mid+1]):\n",
        "            low = mid +1\n",
        "        else:\n",
        "            high = mid-1\n",
        "\n",
        "    return -1\n",
        "\n",
        "\n",
        "\n"
      ]
    },
    {
      "cell_type": "code",
      "source": [],
      "metadata": {
        "id": "WkFyZLPTyDJm"
      },
      "execution_count": null,
      "outputs": []
    }
  ]
}