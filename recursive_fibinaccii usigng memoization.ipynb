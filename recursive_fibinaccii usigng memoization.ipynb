{
  "nbformat": 4,
  "nbformat_minor": 0,
  "metadata": {
    "colab": {
      "provenance": [],
      "authorship_tag": "ABX9TyMrAmRWW1HyB6mqaxbD9gsR",
      "include_colab_link": true
    },
    "kernelspec": {
      "name": "python3",
      "display_name": "Python 3"
    },
    "language_info": {
      "name": "python"
    }
  },
  "cells": [
    {
      "cell_type": "markdown",
      "metadata": {
        "id": "view-in-github",
        "colab_type": "text"
      },
      "source": [
        "<a href=\"https://colab.research.google.com/github/BhuvanChaithanya/Algorithms-daa/blob/main/recursive_fibinacci.ipynb\" target=\"_parent\"><img src=\"https://colab.research.google.com/assets/colab-badge.svg\" alt=\"Open In Colab\"/></a>"
      ]
    },
    {
      "cell_type": "code",
      "execution_count": 11,
      "metadata": {
        "colab": {
          "base_uri": "https://localhost:8080/"
        },
        "id": "wGO2FuPVd4bj",
        "outputId": "b89365dd-3aa1-49c5-9ff4-aa5afff7e84d"
      },
      "outputs": [
        {
          "output_type": "stream",
          "name": "stdout",
          "text": [
            "39088169\n"
          ]
        }
      ],
      "source": [
        "def fib(n):\n",
        "\n",
        "\n",
        "    # Base case\n",
        "    if (n <= 1):\n",
        "        return n\n",
        "\n",
        "    # recursive calls\n",
        "    return fib(n - 1) + fib(n - 2)\n",
        "\n",
        "# Driver Code\n",
        "if __name__=='__main__':\n",
        "    n = 38\n",
        "    print (fib(n))"
      ]
    },
    {
      "cell_type": "code",
      "source": [
        "term = [0 for i in range(1000)]\n",
        "\n",
        "def fib(n):\n",
        "  if n <= 1:\n",
        "    return n\n",
        "\n",
        "  if term[n] != 0:\n",
        "    return term[n]\n",
        "\n",
        "  else:\n",
        "    term[n] = fib(n-1) + fib(n-2)\n",
        "    return term[n]"
      ],
      "metadata": {
        "id": "U4XKiqGQeCbE"
      },
      "execution_count": 13,
      "outputs": []
    },
    {
      "cell_type": "code",
      "source": [
        "n = 38\n",
        "print(fib(n))"
      ],
      "metadata": {
        "colab": {
          "base_uri": "https://localhost:8080/"
        },
        "id": "3gFE-iwnefsp",
        "outputId": "ba3bfaa6-3ba1-4d33-d076-4eb1513e5f6d"
      },
      "execution_count": 14,
      "outputs": [
        {
          "output_type": "stream",
          "name": "stdout",
          "text": [
            "39088169\n"
          ]
        }
      ]
    },
    {
      "cell_type": "code",
      "source": [],
      "metadata": {
        "id": "NOUwjDCffJbH"
      },
      "execution_count": null,
      "outputs": []
    }
  ]
}
