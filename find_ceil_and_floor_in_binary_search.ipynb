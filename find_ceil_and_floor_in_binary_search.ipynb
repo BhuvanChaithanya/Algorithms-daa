{
  "nbformat": 4,
  "nbformat_minor": 0,
  "metadata": {
    "colab": {
      "provenance": [],
      "authorship_tag": "ABX9TyNz2ELxsuMJi/2DimF6TF2j",
      "include_colab_link": true
    },
    "kernelspec": {
      "name": "python3",
      "display_name": "Python 3"
    },
    "language_info": {
      "name": "python"
    }
  },
  "cells": [
    {
      "cell_type": "markdown",
      "metadata": {
        "id": "view-in-github",
        "colab_type": "text"
      },
      "source": [
        "<a href=\"https://colab.research.google.com/github/BhuvanChaithanya/Algorithms-daa/blob/main/find_ceil_and_floor_in_binary_search.ipynb\" target=\"_parent\"><img src=\"https://colab.research.google.com/assets/colab-badge.svg\" alt=\"Open In Colab\"/></a>"
      ]
    },
    {
      "cell_type": "code",
      "execution_count": 1,
      "metadata": {
        "id": "TXFf596tkqWN"
      },
      "outputs": [],
      "source": [
        "\n",
        "def firstAndLastPosition(arr, n, k):\n",
        "    first = -1\n",
        "    last = -1\n",
        "\n",
        "    start = 0\n",
        "    end = n - 1\n",
        "    while start <= end:\n",
        "        mid = (start + end) // 2\n",
        "        if arr[mid] == k:\n",
        "            first = mid\n",
        "            end = mid - 1\n",
        "        elif arr[mid] < k:\n",
        "            start = mid + 1\n",
        "        else:\n",
        "            end = mid - 1\n",
        "\n",
        "    start = 0\n",
        "    end = n - 1\n",
        "    while start <= end:\n",
        "        mid = (start + end) // 2\n",
        "        if arr[mid] == k:\n",
        "            last = mid\n",
        "            start = mid + 1\n",
        "        elif arr[mid] < k:\n",
        "            start = mid + 1\n",
        "        else:\n",
        "            end = mid - 1\n",
        "\n",
        "    return first, last\n"
      ]
    },
    {
      "cell_type": "code",
      "source": [],
      "metadata": {
        "id": "WFf6PYP1nj0w"
      },
      "execution_count": null,
      "outputs": []
    }
  ]
}