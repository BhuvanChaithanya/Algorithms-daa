{
  "nbformat": 4,
  "nbformat_minor": 0,
  "metadata": {
    "colab": {
      "provenance": [],
      "authorship_tag": "ABX9TyMO8LZB5JWZIf9n4n5rSxrA",
      "include_colab_link": true
    },
    "kernelspec": {
      "name": "python3",
      "display_name": "Python 3"
    },
    "language_info": {
      "name": "python"
    }
  },
  "cells": [
    {
      "cell_type": "markdown",
      "metadata": {
        "id": "view-in-github",
        "colab_type": "text"
      },
      "source": [
        "<a href=\"https://colab.research.google.com/github/BhuvanChaithanya/Algorithms-daa/blob/main/find_ceil_and_floor_in_binary_search.ipynb\" target=\"_parent\"><img src=\"https://colab.research.google.com/assets/colab-badge.svg\" alt=\"Open In Colab\"/></a>"
      ]
    },
    {
      "cell_type": "code",
      "execution_count": 1,
      "metadata": {
        "id": "TXFf596tkqWN"
      },
      "outputs": [],
      "source": [
        "\\def findFloor(arr, n, x):\n",
        "    low = 0\n",
        "    high = n - 1\n",
        "    ans = -1\n",
        "\n",
        "    while low <= high:\n",
        "        mid = (low + high) // 2\n",
        "        # maybe an answer\n",
        "        if arr[mid] <= x:\n",
        "            ans = arr[mid]\n",
        "            # look for smaller index on the left\n",
        "            low = mid + 1\n",
        "        else:\n",
        "            high = mid - 1  # look on the right\n",
        "\n",
        "    return ans\n",
        "\n",
        "\n",
        "def findCeil(arr, n, x):\n",
        "    low = 0\n",
        "    high = n - 1\n",
        "    ans = -1\n",
        "\n",
        "    while low <= high:\n",
        "        mid = (low + high) // 2\n",
        "        # maybe an answer\n",
        "        if arr[mid] >= x:\n",
        "            ans = arr[mid]\n",
        "            # look for smaller index on the left\n",
        "            high = mid - 1\n",
        "        else:\n",
        "            low = mid + 1  # look on the right\n",
        "\n",
        "    return ans\n",
        "\n",
        "\n",
        "def getFloorAndCeil(arr, n, x):\n",
        "    f = findFloor(arr, n, x)\n",
        "    c = findCeil(arr, n, x)\n",
        "    return (f, c)\n",
        "\n",
        "\n",
        "arr = [3, 4, 4, 7, 8, 10]\n",
        "n = 6\n",
        "x = 5\n",
        "ans = getFloorAndCeil(arr, n, x)\n",
        "print(\"The floor and ceil are:\", ans[0], ans[1])"
      ]
    },
    {
      "cell_type": "code",
      "source": [],
      "metadata": {
        "id": "WFf6PYP1nj0w"
      },
      "execution_count": null,
      "outputs": []
    }
  ]
}