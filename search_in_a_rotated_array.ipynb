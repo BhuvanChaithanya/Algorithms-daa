{
  "nbformat": 4,
  "nbformat_minor": 0,
  "metadata": {
    "colab": {
      "provenance": [],
      "authorship_tag": "ABX9TyOqMYEGmRqQBW4P3x8/kSHz",
      "include_colab_link": true
    },
    "kernelspec": {
      "name": "python3",
      "display_name": "Python 3"
    },
    "language_info": {
      "name": "python"
    }
  },
  "cells": [
    {
      "cell_type": "markdown",
      "metadata": {
        "id": "view-in-github",
        "colab_type": "text"
      },
      "source": [
        "<a href=\"https://colab.research.google.com/github/BhuvanChaithanya/Algorithms-daa/blob/main/search_in_a_rotated_array.ipynb\" target=\"_parent\"><img src=\"https://colab.research.google.com/assets/colab-badge.svg\" alt=\"Open In Colab\"/></a>"
      ]
    },
    {
      "cell_type": "code",
      "execution_count": 1,
      "metadata": {
        "id": "Oe5PzhzjN95N"
      },
      "outputs": [],
      "source": [
        "def search(arr, n, k):\n",
        "    low = 0\n",
        "    high = n - 1\n",
        "    while low <= high:\n",
        "        mid = (low + high) // 2\n",
        "\n",
        "        if arr[mid] == k:\n",
        "            return mid\n",
        "\n",
        "        if arr[low] <= arr[mid]:  # If left half is sorted\n",
        "            if arr[low] <= k and k <= arr[mid]:\n",
        "                high = mid - 1\n",
        "            else:\n",
        "                low = mid + 1\n",
        "        else:\n",
        "            if arr[mid] <= k and k <= arr[high]:\n",
        "                low = mid + 1\n",
        "            else:\n",
        "                high = mid - 1\n",
        "\n",
        "    return -1"
      ]
    },
    {
      "cell_type": "code",
      "source": [
        "# for edge cases and not unique elements\n",
        "from typing import *\n",
        "\n",
        "def searchInARotatedSortedArrayII(A : List[int], key : int) -> bool:\n",
        "    # Write your code here.\n",
        "    low = 0\n",
        "    high = len(A)-1\n",
        "\n",
        "    while(low <= high):\n",
        "        mid = (low +high)//2\n",
        "        if(A[mid] == key):\n",
        "            return True\n",
        "        if (A[low] == A[mid] and A[mid] == A[high]):\n",
        "            low = low+1\n",
        "            high = high -1\n",
        "            continue\n",
        "\n",
        "        if (A[low] <= A[mid]):\n",
        "            if A[low] <= key and key <= A[mid]:\n",
        "                high = mid-1\n",
        "\n",
        "            else:\n",
        "                low = mid+1\n",
        "\n",
        "        else:\n",
        "            if A[mid] <= key and key <= A[high]:\n",
        "                low = mid +1\n",
        "\n",
        "            else:\n",
        "                high = mid -1\n",
        "\n",
        "    return False\n",
        "    pass"
      ],
      "metadata": {
        "id": "feYSfzHZWMdG"
      },
      "execution_count": 2,
      "outputs": []
    },
    {
      "cell_type": "code",
      "source": [],
      "metadata": {
        "id": "tRNYWZLaWRw5"
      },
      "execution_count": null,
      "outputs": []
    }
  ]
}