{
  "nbformat": 4,
  "nbformat_minor": 0,
  "metadata": {
    "colab": {
      "provenance": [],
      "authorship_tag": "ABX9TyMXsxJPDk0aXrEocJHuWLMC",
      "include_colab_link": true
    },
    "kernelspec": {
      "name": "python3",
      "display_name": "Python 3"
    },
    "language_info": {
      "name": "python"
    }
  },
  "cells": [
    {
      "cell_type": "markdown",
      "metadata": {
        "id": "view-in-github",
        "colab_type": "text"
      },
      "source": [
        "<a href=\"https://colab.research.google.com/github/BhuvanChaithanya/Algorithms-daa/blob/main/Maximum_of_all_subarrays_of_size_k.ipynb\" target=\"_parent\"><img src=\"https://colab.research.google.com/assets/colab-badge.svg\" alt=\"Open In Colab\"/></a>"
      ]
    },
    {
      "cell_type": "code",
      "execution_count": 1,
      "metadata": {
        "colab": {
          "base_uri": "https://localhost:8080/",
          "height": 105
        },
        "id": "kLLalCY0nxgJ",
        "outputId": "841c0656-4850-4606-d285-6137c62eeff3"
      },
      "outputs": [
        {
          "output_type": "execute_result",
          "data": {
            "text/plain": [
              "\"Given a sorted array arr[] of distinct integers. Sort the array into a wave-like array(In Place).\\nIn other words, arrange the elements into a sequence such that arr[1] >= arr[2] <= arr[3] >= arr[4] <= arr[5].....\\n\\nIf there are multiple solutions, find the lexicographically smallest one.\\n\\nNote:The given array is sorted in ascending order, and you don't need to return anything to make changes in the original array itself.\\n\""
            ],
            "application/vnd.google.colaboratory.intrinsic+json": {
              "type": "string"
            }
          },
          "metadata": {},
          "execution_count": 1
        }
      ],
      "source": [
        "'''\n",
        "Given an array arr[] of size N and an integer K. Find the maximum for each and every contiguous subarray of size K.\n",
        "'''"
      ]
    },
    {
      "cell_type": "code",
      "source": [
        "#User function Template for python3\n",
        "\n",
        "class Solution:\n",
        "\n",
        "    #Function to find maximum of each subarray of size k.\n",
        "    def max_of_subarrays(self,arr,n,k):\n",
        "        res = []\n",
        "        for i in range(0,(int(n)-int(k)+1)):\n",
        "\n",
        "            res.append(max(arr[i: i+k]))\n",
        "\n",
        "        return res\n",
        "        #code here\n",
        ""
      ],
      "metadata": {
        "id": "KmksTPYgolK6"
      },
      "execution_count": 3,
      "outputs": []
    },
    {
      "cell_type": "code",
      "source": [],
      "metadata": {
        "id": "DBEB4gjFpDSR"
      },
      "execution_count": null,
      "outputs": []
    }
  ]
}