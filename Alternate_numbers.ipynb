{
  "nbformat": 4,
  "nbformat_minor": 0,
  "metadata": {
    "colab": {
      "provenance": [],
      "authorship_tag": "ABX9TyOrcrsdv9/Z0Wa3EUn4/t/4",
      "include_colab_link": true
    },
    "kernelspec": {
      "name": "python3",
      "display_name": "Python 3"
    },
    "language_info": {
      "name": "python"
    }
  },
  "cells": [
    {
      "cell_type": "markdown",
      "metadata": {
        "id": "view-in-github",
        "colab_type": "text"
      },
      "source": [
        "<a href=\"https://colab.research.google.com/github/BhuvanChaithanya/Algorithms-daa/blob/main/Alternate_numbers.ipynb\" target=\"_parent\"><img src=\"https://colab.research.google.com/assets/colab-badge.svg\" alt=\"Open In Colab\"/></a>"
      ]
    },
    {
      "cell_type": "code",
      "execution_count": 1,
      "metadata": {
        "id": "Pc2iSGt7wDPO"
      },
      "outputs": [],
      "source": [
        "l1 = [1,2,3,-4, -7 , -9]\n",
        "\n",
        "l2 = list(enumerate(l1))"
      ]
    },
    {
      "cell_type": "code",
      "source": [
        "l2"
      ],
      "metadata": {
        "colab": {
          "base_uri": "https://localhost:8080/"
        },
        "id": "QTDiwcNjwLKX",
        "outputId": "f7414e8d-90f7-4e4c-9877-a5790cde7ed6"
      },
      "execution_count": 2,
      "outputs": [
        {
          "output_type": "execute_result",
          "data": {
            "text/plain": [
              "[(0, 1), (1, 2), (2, 3), (3, -4), (4, -7), (5, -9)]"
            ]
          },
          "metadata": {},
          "execution_count": 2
        }
      ]
    },
    {
      "cell_type": "code",
      "source": [
        "x = len(l1)"
      ],
      "metadata": {
        "id": "j4cZ1-0vwPRg"
      },
      "execution_count": 3,
      "outputs": []
    },
    {
      "cell_type": "code",
      "source": [
        "x"
      ],
      "metadata": {
        "colab": {
          "base_uri": "https://localhost:8080/"
        },
        "id": "pEuFZS6ixIL9",
        "outputId": "d3f88143-6e8d-4c00-f42b-3a67937a9a98"
      },
      "execution_count": 4,
      "outputs": [
        {
          "output_type": "execute_result",
          "data": {
            "text/plain": [
              "6"
            ]
          },
          "metadata": {},
          "execution_count": 4
        }
      ]
    },
    {
      "cell_type": "code",
      "source": [
        "from typing import *\n",
        "\n",
        "def alternateNumbers(a : List[int]) -> List[int]:\n",
        "    # Write your code here.\n",
        "    n = len(a)\n",
        "    l2 = [0] *n\n",
        "    x , y = 0,1\n",
        "    for i in range(n):\n",
        "        if a[i] >0:\n",
        "            l2[x] = a[i]\n",
        "            x +=2\n",
        "\n",
        "        if a[i] < 0:\n",
        "            l2[y] = a[i]\n",
        "            y +=2\n",
        "    return l2"
      ],
      "metadata": {
        "id": "6kkz6T2uxI5n"
      },
      "execution_count": null,
      "outputs": []
    }
  ]
}