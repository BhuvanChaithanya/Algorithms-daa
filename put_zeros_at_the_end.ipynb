{
  "nbformat": 4,
  "nbformat_minor": 0,
  "metadata": {
    "colab": {
      "provenance": [],
      "authorship_tag": "ABX9TyN+HuhBB+sAoiRAjFU1Np1P",
      "include_colab_link": true
    },
    "kernelspec": {
      "name": "python3",
      "display_name": "Python 3"
    },
    "language_info": {
      "name": "python"
    }
  },
  "cells": [
    {
      "cell_type": "markdown",
      "metadata": {
        "id": "view-in-github",
        "colab_type": "text"
      },
      "source": [
        "<a href=\"https://colab.research.google.com/github/BhuvanChaithanya/Algorithms-daa/blob/main/put_zeros_at_the_end.ipynb\" target=\"_parent\"><img src=\"https://colab.research.google.com/assets/colab-badge.svg\" alt=\"Open In Colab\"/></a>"
      ]
    },
    {
      "cell_type": "code",
      "execution_count": 1,
      "metadata": {
        "id": "2QrRGFVVoS7X"
      },
      "outputs": [],
      "source": [
        "def moveZeros(n: int,  a: [int]) -> [int]:\n",
        "    # Write your code here.\n",
        "    j = -1\n",
        "    for i in  range(n):\n",
        "        if a[i] == 0:\n",
        "            j = i\n",
        "            break\n",
        "\n",
        "    if j == -1:\n",
        "        return a\n",
        "\n",
        "    for i in range(j+1,n):\n",
        "        if a[i] != 0:\n",
        "            a[i], a[j] = a[j], a[i]\n",
        "            j+=1\n",
        "\n",
        "    return a\n",
        "    pass"
      ]
    },
    {
      "cell_type": "code",
      "source": [],
      "metadata": {
        "id": "rEyhbfJloWms"
      },
      "execution_count": null,
      "outputs": []
    }
  ]
}