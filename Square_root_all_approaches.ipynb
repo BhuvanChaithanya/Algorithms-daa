{
  "nbformat": 4,
  "nbformat_minor": 0,
  "metadata": {
    "colab": {
      "provenance": [],
      "authorship_tag": "ABX9TyPV1IHU48lOpR12fJIvVu7I",
      "include_colab_link": true
    },
    "kernelspec": {
      "name": "python3",
      "display_name": "Python 3"
    },
    "language_info": {
      "name": "python"
    }
  },
  "cells": [
    {
      "cell_type": "markdown",
      "metadata": {
        "id": "view-in-github",
        "colab_type": "text"
      },
      "source": [
        "<a href=\"https://colab.research.google.com/github/BhuvanChaithanya/Algorithms-daa/blob/main/Square_root_all_approaches.ipynb\" target=\"_parent\"><img src=\"https://colab.research.google.com/assets/colab-badge.svg\" alt=\"Open In Colab\"/></a>"
      ]
    },
    {
      "cell_type": "code",
      "execution_count": 1,
      "metadata": {
        "colab": {
          "base_uri": "https://localhost:8080/"
        },
        "id": "iVQjPLYkpVWs",
        "outputId": "4033a56e-7f75-4c2e-82d6-21002b713a06"
      },
      "outputs": [
        {
          "output_type": "stream",
          "name": "stdout",
          "text": [
            "The floor of square root of 28 is: 5\n"
          ]
        }
      ],
      "source": [
        "\n",
        "\n",
        "\n",
        "def floorSqrt(n):\n",
        "    ans = 0\n",
        "    # Linear search on the answer space:\n",
        "    for i in range(1, n+1):\n",
        "        val = i * i\n",
        "        if val <= n:\n",
        "            ans = i\n",
        "        else:\n",
        "            break\n",
        "    return ans\n",
        "\n",
        "n = 28\n",
        "ans = floorSqrt(n)\n",
        "print(\"The floor of square root of\", n, \"is:\", ans)\n"
      ]
    },
    {
      "cell_type": "code",
      "source": [
        "\n",
        "\n",
        "\n",
        "import math\n",
        "\n",
        "def floorSqrt(n):\n",
        "    ans = int(math.sqrt(n))\n",
        "    return ans\n",
        "\n",
        "n = 28\n",
        "ans = floorSqrt(n)\n",
        "print(\"The floor of square root of\", n, \"is:\", ans)\n"
      ],
      "metadata": {
        "colab": {
          "base_uri": "https://localhost:8080/"
        },
        "id": "p3JAKByXpZKs",
        "outputId": "d15986e5-8c7f-48d7-869a-6454c8e7fbd1"
      },
      "execution_count": 2,
      "outputs": [
        {
          "output_type": "stream",
          "name": "stdout",
          "text": [
            "The floor of square root of 28 is: 5\n"
          ]
        }
      ]
    },
    {
      "cell_type": "code",
      "source": [
        "\n",
        "\n",
        "\n",
        "def floorSqrt(n):\n",
        "    low = 1\n",
        "    high = n\n",
        "    # Binary search on the answers:\n",
        "    while low <= high:\n",
        "        mid = (low + high) // 2\n",
        "        val = mid * mid\n",
        "        if val <= n:\n",
        "            # Eliminate the left half:\n",
        "            low = mid + 1\n",
        "        else:\n",
        "            # Eliminate the right half:\n",
        "            high = mid - 1\n",
        "    return high\n",
        "\n",
        "n = 28\n",
        "ans = floorSqrt(n)\n",
        "print(\"The floor of square root of\", n, \"is:\", ans)\n",
        "\n"
      ],
      "metadata": {
        "colab": {
          "base_uri": "https://localhost:8080/"
        },
        "id": "uekQOcAdpg-g",
        "outputId": "f41534f5-1698-41f9-dcb8-e0ef808af85a"
      },
      "execution_count": 3,
      "outputs": [
        {
          "output_type": "stream",
          "name": "stdout",
          "text": [
            "The floor of square root of 28 is: 5\n"
          ]
        }
      ]
    },
    {
      "cell_type": "code",
      "source": [],
      "metadata": {
        "id": "cX1i0fwNpw7H"
      },
      "execution_count": 2,
      "outputs": []
    }
  ]
}