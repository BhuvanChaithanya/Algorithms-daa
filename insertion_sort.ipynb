{
  "nbformat": 4,
  "nbformat_minor": 0,
  "metadata": {
    "colab": {
      "provenance": [],
      "authorship_tag": "ABX9TyPFAVKaPpRcT5itxjvF1O27",
      "include_colab_link": true
    },
    "kernelspec": {
      "name": "python3",
      "display_name": "Python 3"
    },
    "language_info": {
      "name": "python"
    }
  },
  "cells": [
    {
      "cell_type": "markdown",
      "metadata": {
        "id": "view-in-github",
        "colab_type": "text"
      },
      "source": [
        "<a href=\"https://colab.research.google.com/github/BhuvanChaithanya/Algorithms-daa/blob/main/insertion_sort.ipynb\" target=\"_parent\"><img src=\"https://colab.research.google.com/assets/colab-badge.svg\" alt=\"Open In Colab\"/></a>"
      ]
    },
    {
      "cell_type": "code",
      "execution_count": 1,
      "metadata": {
        "id": "uHCy1VTVRVvM"
      },
      "outputs": [],
      "source": [
        "from os import *\n",
        "from sys import *\n",
        "from collections import *\n",
        "from math import *\n",
        "\n",
        "from typing import List\n",
        "\n",
        "def insertionSort(n: int, arr: List[int]) -> None:\n",
        "    for i in range(1,n):\n",
        "        key = arr[i]\n",
        "        x = i-1\n",
        "        while x>= 0 and arr[x] > key:\n",
        "            arr[x+1] = arr[x]\n",
        "            x = x-1\n",
        "        arr[x+1] = key\n",
        "    pass"
      ]
    },
    {
      "cell_type": "code",
      "source": [],
      "metadata": {
        "id": "DzcZ9JNZRYrg"
      },
      "execution_count": null,
      "outputs": []
    }
  ]
}