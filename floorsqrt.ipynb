{
  "nbformat": 4,
  "nbformat_minor": 0,
  "metadata": {
    "colab": {
      "provenance": [],
      "authorship_tag": "ABX9TyO6Klj76L41Y55/aS3Tai5O",
      "include_colab_link": true
    },
    "kernelspec": {
      "name": "python3",
      "display_name": "Python 3"
    },
    "language_info": {
      "name": "python"
    }
  },
  "cells": [
    {
      "cell_type": "markdown",
      "metadata": {
        "id": "view-in-github",
        "colab_type": "text"
      },
      "source": [
        "<a href=\"https://colab.research.google.com/github/BhuvanChaithanya/Algorithms-daa/blob/main/floorsqrt.ipynb\" target=\"_parent\"><img src=\"https://colab.research.google.com/assets/colab-badge.svg\" alt=\"Open In Colab\"/></a>"
      ]
    },
    {
      "cell_type": "code",
      "execution_count": 1,
      "metadata": {
        "colab": {
          "base_uri": "https://localhost:8080/"
        },
        "id": "NM-dzGd5DbBb",
        "outputId": "7e50bfa2-ebbb-4a03-eb99-afc3e4718d38"
      },
      "outputs": [
        {
          "output_type": "stream",
          "name": "stdout",
          "text": [
            "The floor of square root of 28 is: 5\n"
          ]
        }
      ],
      "source": [
        "def floorSqrt(n):\n",
        "    low = 1\n",
        "    high = n\n",
        "    # Binary search on the answers:\n",
        "    while low <= high:\n",
        "        mid = (low + high) // 2\n",
        "        val = mid * mid\n",
        "        if val <= n:\n",
        "            # Eliminate the left half:\n",
        "            low = mid + 1\n",
        "        else:\n",
        "            # Eliminate the right half:\n",
        "            high = mid - 1\n",
        "    return high\n",
        "\n",
        "n = 28\n",
        "ans = floorSqrt(n)\n",
        "print(\"The floor of square root of\", n, \"is:\", ans)"
      ]
    },
    {
      "cell_type": "code",
      "source": [],
      "metadata": {
        "id": "Ngn5IrhVDev4"
      },
      "execution_count": null,
      "outputs": []
    }
  ]
}