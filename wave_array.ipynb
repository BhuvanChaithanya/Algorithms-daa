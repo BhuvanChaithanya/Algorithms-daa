{
  "nbformat": 4,
  "nbformat_minor": 0,
  "metadata": {
    "colab": {
      "provenance": [],
      "authorship_tag": "ABX9TyPeWq8wCq9BYN8Gu71YVfqH",
      "include_colab_link": true
    },
    "kernelspec": {
      "name": "python3",
      "display_name": "Python 3"
    },
    "language_info": {
      "name": "python"
    }
  },
  "cells": [
    {
      "cell_type": "markdown",
      "metadata": {
        "id": "view-in-github",
        "colab_type": "text"
      },
      "source": [
        "<a href=\"https://colab.research.google.com/github/BhuvanChaithanya/Algorithms-daa/blob/main/wave_array.ipynb\" target=\"_parent\"><img src=\"https://colab.research.google.com/assets/colab-badge.svg\" alt=\"Open In Colab\"/></a>"
      ]
    },
    {
      "cell_type": "code",
      "execution_count": 1,
      "metadata": {
        "colab": {
          "base_uri": "https://localhost:8080/",
          "height": 105
        },
        "id": "kLLalCY0nxgJ",
        "outputId": "841c0656-4850-4606-d285-6137c62eeff3"
      },
      "outputs": [
        {
          "output_type": "execute_result",
          "data": {
            "text/plain": [
              "\"Given a sorted array arr[] of distinct integers. Sort the array into a wave-like array(In Place).\\nIn other words, arrange the elements into a sequence such that arr[1] >= arr[2] <= arr[3] >= arr[4] <= arr[5].....\\n\\nIf there are multiple solutions, find the lexicographically smallest one.\\n\\nNote:The given array is sorted in ascending order, and you don't need to return anything to make changes in the original array itself.\\n\""
            ],
            "application/vnd.google.colaboratory.intrinsic+json": {
              "type": "string"
            }
          },
          "metadata": {},
          "execution_count": 1
        }
      ],
      "source": [
        "'''Given a sorted array arr[] of distinct integers. Sort the array into a wave-like array(In Place).\n",
        "In other words, arrange the elements into a sequence such that arr[1] >= arr[2] <= arr[3] >= arr[4] <= arr[5].....\n",
        "\n",
        "If there are multiple solutions, find the lexicographically smallest one.\n",
        "\n",
        "Note:The given array is sorted in ascending order, and you don't need to return anything to make changes in the original array itself.\n",
        "'''"
      ]
    },
    {
      "cell_type": "code",
      "source": [
        "class Solution:\n",
        "    def convertToWave(self, n : int, a : List[int]) -> None:\n",
        "        # code here\n",
        "        if n%2 == 0:\n",
        "            for i in range(0,n,2):\n",
        "                a[i] , a[i+1] =a[i+1] , a[i]\n",
        "        else:\n",
        "            for i in range(0,n-1,2):\n",
        "                a[i] , a[i+1] =a[i+1] , a[i]"
      ],
      "metadata": {
        "id": "KmksTPYgolK6"
      },
      "execution_count": null,
      "outputs": []
    }
  ]
}