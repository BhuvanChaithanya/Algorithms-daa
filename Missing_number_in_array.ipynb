{
  "nbformat": 4,
  "nbformat_minor": 0,
  "metadata": {
    "colab": {
      "provenance": [],
      "authorship_tag": "ABX9TyML56b4KTPkKqW0s4IlRdIP",
      "include_colab_link": true
    },
    "kernelspec": {
      "name": "python3",
      "display_name": "Python 3"
    },
    "language_info": {
      "name": "python"
    }
  },
  "cells": [
    {
      "cell_type": "markdown",
      "metadata": {
        "id": "view-in-github",
        "colab_type": "text"
      },
      "source": [
        "<a href=\"https://colab.research.google.com/github/BhuvanChaithanya/Algorithms-daa/blob/main/Missing_number_in_array.ipynb\" target=\"_parent\"><img src=\"https://colab.research.google.com/assets/colab-badge.svg\" alt=\"Open In Colab\"/></a>"
      ]
    },
    {
      "cell_type": "code",
      "execution_count": null,
      "metadata": {
        "id": "kLLalCY0nxgJ"
      },
      "outputs": [],
      "source": [
        "\n",
        "class Solution:\n",
        "    def missingNumber(self,array,n):\n",
        "        sum = n*(n+1)/2\n",
        "        fakesum = 0\n",
        "        for x in array:\n",
        "            fakesum += x  #sum(array)\n",
        "\n",
        "        return int((sum - fakesum))\n"
      ]
    }
  ]
}