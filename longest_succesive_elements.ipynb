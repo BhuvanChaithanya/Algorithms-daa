{
  "nbformat": 4,
  "nbformat_minor": 0,
  "metadata": {
    "colab": {
      "provenance": [],
      "authorship_tag": "ABX9TyPUt61OWbJzCUPtP/dGCLvY",
      "include_colab_link": true
    },
    "kernelspec": {
      "name": "python3",
      "display_name": "Python 3"
    },
    "language_info": {
      "name": "python"
    }
  },
  "cells": [
    {
      "cell_type": "markdown",
      "metadata": {
        "id": "view-in-github",
        "colab_type": "text"
      },
      "source": [
        "<a href=\"https://colab.research.google.com/github/BhuvanChaithanya/Algorithms-daa/blob/main/longest_succesive_elements.ipynb\" target=\"_parent\"><img src=\"https://colab.research.google.com/assets/colab-badge.svg\" alt=\"Open In Colab\"/></a>"
      ]
    },
    {
      "cell_type": "code",
      "execution_count": null,
      "metadata": {
        "id": "dfzjyCDfzdLL"
      },
      "outputs": [],
      "source": [
        "from typing import *\n",
        "\n",
        "def longestSuccessiveElements(a : List[int]) -> int:\n",
        "    num_set = set(a)\n",
        "\n",
        "    maxlength = 0\n",
        "\n",
        "    for num in a:\n",
        "        if num-1 not in num_set:\n",
        "            current_length = 1\n",
        "\n",
        "            while num+1 in  num_set:\n",
        "                num += 1\n",
        "                current_length +=1\n",
        "\n",
        "            maxlength = max(maxlength,current_length)\n",
        "\n",
        "    return maxlength"
      ]
    }
  ]
}