{
  "nbformat": 4,
  "nbformat_minor": 0,
  "metadata": {
    "colab": {
      "provenance": [],
      "authorship_tag": "ABX9TyPY3sP3CwFWAADVHD+EfQLl",
      "include_colab_link": true
    },
    "kernelspec": {
      "name": "python3",
      "display_name": "Python 3"
    },
    "language_info": {
      "name": "python"
    }
  },
  "cells": [
    {
      "cell_type": "markdown",
      "metadata": {
        "id": "view-in-github",
        "colab_type": "text"
      },
      "source": [
        "<a href=\"https://colab.research.google.com/github/BhuvanChaithanya/Algorithms-daa/blob/main/Search_an_element_in_an_array.ipynb\" target=\"_parent\"><img src=\"https://colab.research.google.com/assets/colab-badge.svg\" alt=\"Open In Colab\"/></a>"
      ]
    },
    {
      "cell_type": "code",
      "execution_count": 1,
      "metadata": {
        "colab": {
          "base_uri": "https://localhost:8080/",
          "height": 70
        },
        "id": "tPsqlkx_AV7_",
        "outputId": "29e82af0-7586-46a6-bd6e-d72e8794ff1c"
      },
      "outputs": [
        {
          "output_type": "execute_result",
          "data": {
            "text/plain": [
              "'\\nThe task is to complete the function search() which takes the array arr[], its size N and the element X as inputs and returns the index of first occurrence of X in the given array. If the element X does not exist in the array, the function should return -1.\\n'"
            ],
            "application/vnd.google.colaboratory.intrinsic+json": {
              "type": "string"
            }
          },
          "metadata": {},
          "execution_count": 1
        }
      ],
      "source": [
        "'''\n",
        "The task is to complete the function search() which takes the array arr[], its size N and the element X as inputs and returns the index of first occurrence of X in the given array. If the element X does not exist in the array, the function should return -1.\n",
        "'''"
      ]
    },
    {
      "cell_type": "code",
      "source": [
        "class Solution:\n",
        "  def search(self, arr, N, X):\n",
        "    pos_val = enumerate(arr)\n",
        "    for pos, val in pos_val:\n",
        "      if val == X:\n",
        "        return (pos)\n",
        "    else:\n",
        "      return -1\n"
      ],
      "metadata": {
        "id": "5HRduwb8AgRp"
      },
      "execution_count": 2,
      "outputs": []
    },
    {
      "cell_type": "code",
      "source": [
        "import math\n",
        "\n",
        "def main():\n",
        "  T = int(input())\n",
        "  while (T>0):\n",
        "    N = int(input())\n",
        "\n",
        "    A = [int(x) for x in input().strip().split()]\n",
        "\n",
        "    x = int(input())\n",
        "    ob = Solution()\n",
        "    print(ob.search(A,N,x))\n",
        "\n",
        "    T -=1\n",
        "\n",
        "if __name__ == \"__main__\":\n",
        "  main()"
      ],
      "metadata": {
        "colab": {
          "base_uri": "https://localhost:8080/"
        },
        "id": "jZPAhsWRBZi9",
        "outputId": "40eb0427-f09e-4842-b0f0-0b32c9714a17"
      },
      "execution_count": 3,
      "outputs": [
        {
          "output_type": "stream",
          "name": "stdout",
          "text": [
            "1\n",
            "4\n",
            "1 2 3 4\n",
            "3\n",
            "2\n"
          ]
        }
      ]
    },
    {
      "cell_type": "code",
      "source": [],
      "metadata": {
        "id": "xe4I5E3-CN2K"
      },
      "execution_count": null,
      "outputs": []
    }
  ]
}