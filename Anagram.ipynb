{
  "nbformat": 4,
  "nbformat_minor": 0,
  "metadata": {
    "colab": {
      "provenance": [],
      "authorship_tag": "ABX9TyPFLg3yR7dWFdRw/rGuqiLF",
      "include_colab_link": true
    },
    "kernelspec": {
      "name": "python3",
      "display_name": "Python 3"
    },
    "language_info": {
      "name": "python"
    }
  },
  "cells": [
    {
      "cell_type": "markdown",
      "metadata": {
        "id": "view-in-github",
        "colab_type": "text"
      },
      "source": [
        "<a href=\"https://colab.research.google.com/github/BhuvanChaithanya/Algorithms-daa/blob/main/Anagram.ipynb\" target=\"_parent\"><img src=\"https://colab.research.google.com/assets/colab-badge.svg\" alt=\"Open In Colab\"/></a>"
      ]
    },
    {
      "cell_type": "code",
      "execution_count": 1,
      "metadata": {
        "id": "3Fo7Yl92h5am"
      },
      "outputs": [],
      "source": [
        "class Solution:\n",
        "\n",
        "    #Function is to check whether two strings are anagram of each other or not.\n",
        "    def isAnagram(self,a,b):\n",
        "        if len(a) != len(b):\n",
        "            return False\n",
        "        counta = 0\n",
        "        countb = 0\n",
        "        for i in range(len(a)):\n",
        "            counta += ord(a[i])\n",
        "            countb += ord(b[i])\n",
        "\n",
        "        if counta == countb and set(a) == set(b):\n",
        "            return True\n",
        "        else:\n",
        "            return False"
      ]
    },
    {
      "cell_type": "code",
      "source": [],
      "metadata": {
        "id": "X_3qJtswh6gu"
      },
      "execution_count": null,
      "outputs": []
    }
  ]
}