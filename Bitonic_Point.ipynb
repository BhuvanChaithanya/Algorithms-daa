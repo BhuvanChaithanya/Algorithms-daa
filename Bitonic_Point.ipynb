{
  "nbformat": 4,
  "nbformat_minor": 0,
  "metadata": {
    "colab": {
      "provenance": [],
      "authorship_tag": "ABX9TyOFsh9W+jenn59CsETuSe+K",
      "include_colab_link": true
    },
    "kernelspec": {
      "name": "python3",
      "display_name": "Python 3"
    },
    "language_info": {
      "name": "python"
    }
  },
  "cells": [
    {
      "cell_type": "markdown",
      "metadata": {
        "id": "view-in-github",
        "colab_type": "text"
      },
      "source": [
        "<a href=\"https://colab.research.google.com/github/BhuvanChaithanya/Algorithms-daa/blob/main/Bitonic_Point.ipynb\" target=\"_parent\"><img src=\"https://colab.research.google.com/assets/colab-badge.svg\" alt=\"Open In Colab\"/></a>"
      ]
    },
    {
      "cell_type": "code",
      "execution_count": 1,
      "metadata": {
        "colab": {
          "base_uri": "https://localhost:8080/",
          "height": 105
        },
        "id": "kLLalCY0nxgJ",
        "outputId": "841c0656-4850-4606-d285-6137c62eeff3"
      },
      "outputs": [
        {
          "output_type": "execute_result",
          "data": {
            "text/plain": [
              "\"Given a sorted array arr[] of distinct integers. Sort the array into a wave-like array(In Place).\\nIn other words, arrange the elements into a sequence such that arr[1] >= arr[2] <= arr[3] >= arr[4] <= arr[5].....\\n\\nIf there are multiple solutions, find the lexicographically smallest one.\\n\\nNote:The given array is sorted in ascending order, and you don't need to return anything to make changes in the original array itself.\\n\""
            ],
            "application/vnd.google.colaboratory.intrinsic+json": {
              "type": "string"
            }
          },
          "metadata": {},
          "execution_count": 1
        }
      ],
      "source": [
        "'''\n",
        "Given an array arr of n elements that is first strictly increasing and then maybe strictly decreasing, find the maximum element in the array.\n",
        "Note: If the array is increasing then just print the last element will be the maximum value.\n",
        "'''"
      ]
    },
    {
      "cell_type": "code",
      "source": [
        "# i have to find a better performing algorithm\n",
        "\n",
        "class Solution:\n",
        "\n",
        "\tdef findMaximum(self,arr, n):\n",
        "\t\treturn max(arr)"
      ],
      "metadata": {
        "id": "KmksTPYgolK6"
      },
      "execution_count": 2,
      "outputs": []
    },
    {
      "cell_type": "code",
      "source": [],
      "metadata": {
        "id": "DBEB4gjFpDSR"
      },
      "execution_count": null,
      "outputs": []
    }
  ]
}