{
  "nbformat": 4,
  "nbformat_minor": 0,
  "metadata": {
    "colab": {
      "provenance": [],
      "authorship_tag": "ABX9TyNnsudJwn1aiqb2e6M8s2/G",
      "include_colab_link": true
    },
    "kernelspec": {
      "name": "python3",
      "display_name": "Python 3"
    },
    "language_info": {
      "name": "python"
    }
  },
  "cells": [
    {
      "cell_type": "markdown",
      "metadata": {
        "id": "view-in-github",
        "colab_type": "text"
      },
      "source": [
        "<a href=\"https://colab.research.google.com/github/BhuvanChaithanya/Algorithms-daa/blob/main/Find_Minimum_in_Rotated_Sorted_Array_and_find_how_many_times_array_has_been_rotated.ipynb\" target=\"_parent\"><img src=\"https://colab.research.google.com/assets/colab-badge.svg\" alt=\"Open In Colab\"/></a>"
      ]
    },
    {
      "cell_type": "code",
      "execution_count": 1,
      "metadata": {
        "id": "7mi3PRbKZ8AI"
      },
      "outputs": [],
      "source": [
        "import sys\n",
        "def findMin(arr: [int]):\n",
        "    # Write your code here.\n",
        "\n",
        "    low = 0\n",
        "    high = len(arr) -1\n",
        "    ans = sys.maxsize\n",
        "\n",
        "\n",
        "    while(low <= high):\n",
        "        mid = (low + high)//2\n",
        "\n",
        "        if (arr[low] <= arr[high]):\n",
        "            ans = min(ans,arr[low])\n",
        "            break\n",
        "        if (arr[low] <= arr[mid]):\n",
        "            ans = min(ans,arr[low])\n",
        "            low = mid +1\n",
        "\n",
        "        else:\n",
        "            ans = min(ans,arr[mid])\n",
        "            high = mid -1\n",
        "\n",
        "    return ans\n",
        "\n",
        "    pass\n"
      ]
    },
    {
      "cell_type": "code",
      "source": [
        "import sys\n",
        "def findKRotation(arr : [int]) -> int:\n",
        "    # Write your code here.\n",
        "    low = 0\n",
        "    high = len(arr) -1\n",
        "    ans = float('inf')\n",
        "    ind = -1\n",
        "\n",
        "    while low <= high:\n",
        "        mid = (low+high)//2\n",
        "\n",
        "        if (arr[low] <= arr[high]):\n",
        "            if (arr[low] < ans):\n",
        "                index = low\n",
        "                ans = arr[low]\n",
        "            break\n",
        "\n",
        "        if arr[low] <= arr[mid]:\n",
        "            if arr[low] < ans:\n",
        "                index = low\n",
        "                ans = arr[low]\n",
        "            low = mid+1\n",
        "\n",
        "        else:\n",
        "            if arr[mid] < ans:\n",
        "                index = mid\n",
        "                ans = arr[mid]\n",
        "            high = mid -1\n",
        "\n",
        "    return index\n",
        "\n",
        "\n",
        "    pass\n",
        "\n",
        "\n"
      ],
      "metadata": {
        "id": "tb2HJYvKaBSL"
      },
      "execution_count": null,
      "outputs": []
    }
  ]
}