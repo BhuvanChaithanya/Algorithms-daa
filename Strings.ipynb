{
  "nbformat": 4,
  "nbformat_minor": 0,
  "metadata": {
    "colab": {
      "provenance": [],
      "authorship_tag": "ABX9TyMJEp+yJqxF//D5rS5IMLie",
      "include_colab_link": true
    },
    "kernelspec": {
      "name": "python3",
      "display_name": "Python 3"
    },
    "language_info": {
      "name": "python"
    }
  },
  "cells": [
    {
      "cell_type": "markdown",
      "metadata": {
        "id": "view-in-github",
        "colab_type": "text"
      },
      "source": [
        "<a href=\"https://colab.research.google.com/github/BhuvanChaithanya/Algorithms-daa/blob/main/Strings.ipynb\" target=\"_parent\"><img src=\"https://colab.research.google.com/assets/colab-badge.svg\" alt=\"Open In Colab\"/></a>"
      ]
    },
    {
      "cell_type": "code",
      "execution_count": 1,
      "metadata": {
        "id": "XU9ggsHh_7vC"
      },
      "outputs": [],
      "source": [
        "class Solution(object):\n",
        "    def reverseWords(self, s):\n",
        "\n",
        "        l = list(split(s))\n",
        "        l = l[::-1]\n",
        "        x = \" \".join(l)\n",
        "        return x\n",
        "        \"\"\"\n",
        "        :type s: str\n",
        "        :rtype: str\n",
        "        \"\"\"\n",
        ""
      ]
    },
    {
      "cell_type": "code",
      "source": [
        "class Solution(object):\n",
        "    def largestOddNumber(self, num):\n",
        "        l = list(num)\n",
        "        n = len(l)\n",
        "        sol = []\n",
        "        for i in range(n-1,-1,-1):\n",
        "            if (int(l[i])%2==1):\n",
        "                sol.append(i)\n",
        "                break\n",
        "\n",
        "        if len(sol) == 0:\n",
        "            return \"\"\n",
        "        elif sol[0] == 0:\n",
        "            return l[0]\n",
        "\n",
        "        else:\n",
        "\n",
        "            return \"\".join(l[:sol[0]+1])\n",
        "\n",
        "\n",
        "\n",
        "\n",
        "\n",
        "\n",
        "\n",
        "\n",
        "        \"\"\"\n",
        "        :type num: str\n",
        "        :rtype: str\n",
        "        \"\"\"\n",
        ""
      ],
      "metadata": {
        "id": "qA09tozjAB3C"
      },
      "execution_count": 2,
      "outputs": []
    },
    {
      "cell_type": "code",
      "source": [
        "class Solution:\n",
        "    def isIsomorphic(self, s: str, t: str) -> bool:\n",
        "        inds = [-1]*300\n",
        "        indt = [-1]*300\n",
        "\n",
        "        if len(s) != len(t):\n",
        "            return False\n",
        "\n",
        "        for i in range(len(s)):\n",
        "            if inds[ord(s[i])] != indt[ord(t[i])]:\n",
        "                return False\n",
        "\n",
        "            inds[ord(s[i])] = i\n",
        "            indt[ord(t[i])] = i\n",
        "\n",
        "        else:\n",
        "            return True"
      ],
      "metadata": {
        "id": "KE0X9nzaAEx4"
      },
      "execution_count": 3,
      "outputs": []
    },
    {
      "cell_type": "code",
      "source": [
        "class Solution:\n",
        "    def longestCommonPrefix(self, strs: list[str]) -> str:\n",
        "        lys = sorted(strs)\n",
        "\n",
        "        l1 = lys[0]\n",
        "        l2 = lys[len(lys)-1]\n",
        "        res = ''\n",
        "\n",
        "        for i in range(min(len(l1),len(l2))):\n",
        "            if l1[i] == l2[i]:\n",
        "                res += l1[i]\n",
        "\n",
        "\n",
        "\n",
        "        return res\n",
        "\n",
        "\n",
        "\n",
        "\n",
        "\n",
        "\n",
        "\n",
        ""
      ],
      "metadata": {
        "id": "5fqbVWNVAHRS"
      },
      "execution_count": 5,
      "outputs": []
    },
    {
      "cell_type": "code",
      "source": [],
      "metadata": {
        "id": "rESnBje3AMXY"
      },
      "execution_count": null,
      "outputs": []
    }
  ]
}