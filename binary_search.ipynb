{
  "nbformat": 4,
  "nbformat_minor": 0,
  "metadata": {
    "colab": {
      "provenance": [],
      "authorship_tag": "ABX9TyMumRa8O7BUF1xNf3vRT7wN",
      "include_colab_link": true
    },
    "kernelspec": {
      "name": "python3",
      "display_name": "Python 3"
    },
    "language_info": {
      "name": "python"
    }
  },
  "cells": [
    {
      "cell_type": "markdown",
      "metadata": {
        "id": "view-in-github",
        "colab_type": "text"
      },
      "source": [
        "<a href=\"https://colab.research.google.com/github/BhuvanChaithanya/Algorithms-daa/blob/main/binary_search.ipynb\" target=\"_parent\"><img src=\"https://colab.research.google.com/assets/colab-badge.svg\" alt=\"Open In Colab\"/></a>"
      ]
    },
    {
      "cell_type": "code",
      "execution_count": null,
      "metadata": {
        "id": "0vgOqFxq_5Ak"
      },
      "outputs": [],
      "source": [
        "def search(nums: [int], target: int):\n",
        "    low = 0\n",
        "    high =len(nums) -1\n",
        "\n",
        "    while(low <= high):\n",
        "        mid = (low+high)//2\n",
        "\n",
        "        if nums[mid] == target:\n",
        "            return mid\n",
        "\n",
        "        elif target > nums[mid]:\n",
        "            low = mid +1\n",
        "        else:\n",
        "            high = mid-1\n",
        "\n",
        "    return -1\n"
      ]
    }
  ]
}