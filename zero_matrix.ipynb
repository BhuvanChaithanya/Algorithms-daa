{
  "nbformat": 4,
  "nbformat_minor": 0,
  "metadata": {
    "colab": {
      "provenance": [],
      "authorship_tag": "ABX9TyNOcjYicZ3P3JRBtoK2GeNf",
      "include_colab_link": true
    },
    "kernelspec": {
      "name": "python3",
      "display_name": "Python 3"
    },
    "language_info": {
      "name": "python"
    }
  },
  "cells": [
    {
      "cell_type": "markdown",
      "metadata": {
        "id": "view-in-github",
        "colab_type": "text"
      },
      "source": [
        "<a href=\"https://colab.research.google.com/github/BhuvanChaithanya/Algorithms-daa/blob/main/zero_matrix.ipynb\" target=\"_parent\"><img src=\"https://colab.research.google.com/assets/colab-badge.svg\" alt=\"Open In Colab\"/></a>"
      ]
    },
    {
      "cell_type": "code",
      "execution_count": 1,
      "metadata": {
        "id": "sr5yzqR4wN6A"
      },
      "outputs": [],
      "source": [
        "from sys import *\n",
        "from collections import *\n",
        "from math import *\n",
        "\n",
        "def zeroMatrix(matrix, n, m):\n",
        "    row =[]\n",
        "    column = []\n",
        "    for i in range(n):\n",
        "        for j in range(m):\n",
        "            if matrix[i][j] == 0:\n",
        "                row.append(i)\n",
        "                column.append(j)\n",
        "\n",
        "    for i in row:\n",
        "        for j in range(m):\n",
        "            matrix[i][j]= 0\n",
        "\n",
        "    for i in column:\n",
        "        for j in range(n):\n",
        "            matrix[j][i] = 0\n",
        "\n",
        "    return matrix"
      ]
    },
    {
      "cell_type": "code",
      "source": [],
      "metadata": {
        "id": "Fk9jxgCjwOe3"
      },
      "execution_count": null,
      "outputs": []
    }
  ]
}