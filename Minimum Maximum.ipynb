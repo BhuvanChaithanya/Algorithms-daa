{
 "cells": [
  {
   "cell_type": "code",
   "execution_count": 1,
   "id": "066e86c8",
   "metadata": {},
   "outputs": [],
   "source": [
    "def getMinMax(a,n):\n",
    "    min = a[0]\n",
    "    max = a[0]\n",
    "    \n",
    "    for num in a:\n",
    "        if num < min:\n",
    "            min = num\n",
    "        if num > max:\n",
    "            max = num\n",
    "        else:\n",
    "            pass\n",
    "    return min,max"
   ]
  },
  {
   "cell_type": "code",
   "execution_count": 4,
   "id": "190b80c4",
   "metadata": {},
   "outputs": [
    {
     "name": "stdout",
     "output_type": "stream",
     "text": [
      "1\n",
      "6\n",
      "3 2 1 56 10000 157\n",
      "1 10000\n"
     ]
    }
   ],
   "source": [
    "def main():\n",
    "    T = int(input())\n",
    "    \n",
    "    while(T > 0):\n",
    "        n = int(input())\n",
    "        a = [int(x) for x in input().strip().split()]\n",
    "        \n",
    "        product = getMinMax(a,n)\n",
    "        print(product[0], end = \" \")\n",
    "        print(product[1])\n",
    "        \n",
    "        T -= 1\n",
    "\n",
    "if __name__ == \"__main__\":\n",
    "    main()"
   ]
  },
  {
   "cell_type": "code",
   "execution_count": null,
   "id": "4460cddc",
   "metadata": {},
   "outputs": [],
   "source": []
  }
 ],
 "metadata": {
  "kernelspec": {
   "display_name": "Python 3 (ipykernel)",
   "language": "python",
   "name": "python3"
  },
  "language_info": {
   "codemirror_mode": {
    "name": "ipython",
    "version": 3
   },
   "file_extension": ".py",
   "mimetype": "text/x-python",
   "name": "python",
   "nbconvert_exporter": "python",
   "pygments_lexer": "ipython3",
   "version": "3.10.9"
  }
 },
 "nbformat": 4,
 "nbformat_minor": 5
}
