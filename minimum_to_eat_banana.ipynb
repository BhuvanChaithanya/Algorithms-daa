{
  "nbformat": 4,
  "nbformat_minor": 0,
  "metadata": {
    "colab": {
      "provenance": [],
      "authorship_tag": "ABX9TyPt4yqFMULVs7A2AeHrtcf6",
      "include_colab_link": true
    },
    "kernelspec": {
      "name": "python3",
      "display_name": "Python 3"
    },
    "language_info": {
      "name": "python"
    }
  },
  "cells": [
    {
      "cell_type": "markdown",
      "metadata": {
        "id": "view-in-github",
        "colab_type": "text"
      },
      "source": [
        "<a href=\"https://colab.research.google.com/github/BhuvanChaithanya/Algorithms-daa/blob/main/minimum_to_eat_banana.ipynb\" target=\"_parent\"><img src=\"https://colab.research.google.com/assets/colab-badge.svg\" alt=\"Open In Colab\"/></a>"
      ]
    },
    {
      "cell_type": "code",
      "execution_count": 1,
      "metadata": {
        "colab": {
          "base_uri": "https://localhost:8080/"
        },
        "id": "iVQjPLYkpVWs",
        "outputId": "493146e8-8a8a-4191-81c0-f421e3bc0244"
      },
      "outputs": [
        {
          "output_type": "stream",
          "name": "stdout",
          "text": [
            "Koko should eat at least 5 bananas/hr.\n"
          ]
        }
      ],
      "source": [
        "import math\n",
        "\n",
        "def findMax(v):\n",
        "    maxi = float('-inf')\n",
        "    n = len(v)\n",
        "\n",
        "    for i in range(n):\n",
        "        maxi = max(maxi, v[i])\n",
        "    return maxi\n",
        "\n",
        "def calculateTotalHours(v, hourly):\n",
        "    totalH = 0\n",
        "    n = len(v)\n",
        "    # Find total hours\n",
        "    for i in range(n):\n",
        "        totalH += math.ceil(v[i] / hourly)\n",
        "    return totalH\n",
        "\n",
        "def minimumRateToEatBananas(v, h):\n",
        "\n",
        "    maxi = findMax(v)\n",
        "\n",
        "\n",
        "    for i in range(1, maxi+1):\n",
        "        reqTime = calculateTotalHours(v, i)\n",
        "        if reqTime <= h:\n",
        "            return i\n",
        "\n",
        "\n",
        "    return maxi\n",
        "\n",
        "v = [7, 15, 6, 3]\n",
        "h = 8\n",
        "ans = minimumRateToEatBananas(v, h)\n",
        "print(\"Koko should eat at least\", ans, \"bananas/hr.\")"
      ]
    },
    {
      "cell_type": "code",
      "source": [],
      "metadata": {
        "id": "p3JAKByXpZKs"
      },
      "execution_count": 1,
      "outputs": []
    },
    {
      "cell_type": "code",
      "source": [],
      "metadata": {
        "id": "uekQOcAdpg-g"
      },
      "execution_count": 1,
      "outputs": []
    },
    {
      "cell_type": "code",
      "source": [],
      "metadata": {
        "id": "cX1i0fwNpw7H"
      },
      "execution_count": 1,
      "outputs": []
    }
  ]
}