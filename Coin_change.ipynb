{
  "nbformat": 4,
  "nbformat_minor": 0,
  "metadata": {
    "colab": {
      "provenance": [],
      "authorship_tag": "ABX9TyO0fgGzxC2fqw2qYjGFQTqC",
      "include_colab_link": true
    },
    "kernelspec": {
      "name": "python3",
      "display_name": "Python 3"
    },
    "language_info": {
      "name": "python"
    }
  },
  "cells": [
    {
      "cell_type": "markdown",
      "metadata": {
        "id": "view-in-github",
        "colab_type": "text"
      },
      "source": [
        "<a href=\"https://colab.research.google.com/github/BhuvanChaithanya/Algorithms-daa/blob/main/Coin_change.ipynb\" target=\"_parent\"><img src=\"https://colab.research.google.com/assets/colab-badge.svg\" alt=\"Open In Colab\"/></a>"
      ]
    },
    {
      "cell_type": "code",
      "execution_count": 1,
      "metadata": {
        "id": "Z0hmJraW37vL"
      },
      "outputs": [],
      "source": [
        "# Function to calculate the total distinct ways to make a sum using n coins of different denominations\n",
        "def count(coins, n, target_sum):\n",
        "\t# 2D dp array where n is the number of coin denominations and target_sum is the target sum\n",
        "\tdp = [[0 for j in range(target_sum + 1)] for i in range(n + 1)]\n",
        "\n",
        "\t# Represents the base case where the target sum is 0, and there is only one way to make change: by not selecting any coin\n",
        "\tdp[0][0] = 1\n",
        "\tfor i in range(1, n + 1):\n",
        "\t\tfor j in range(target_sum + 1):\n",
        "\t\t\t# Add the number of ways to make change without using the current coin\n",
        "\t\t\tdp[i][j] += dp[i - 1][j]\n",
        "\n",
        "\t\t\tif j - coins[i - 1] >= 0:\n",
        "\t\t\t\t# Add the number of ways to make change using the current coin\n",
        "\t\t\t\tdp[i][j] += dp[i][j - coins[i - 1]]\n",
        "\n",
        "\treturn dp[n][target_sum]\n",
        "\n",
        "# Driver Code\n",
        "if __name__ == \"__main__\":\n",
        "\tcoins = [1, 2, 3]\n",
        "\tn = 3\n",
        "\ttarget_sum = 5\n",
        "\tprint(count(coins, n, target_sum))\n"
      ]
    },
    {
      "cell_type": "code",
      "source": [],
      "metadata": {
        "id": "9nAwcpPB38Qm"
      },
      "execution_count": null,
      "outputs": []
    }
  ]
}