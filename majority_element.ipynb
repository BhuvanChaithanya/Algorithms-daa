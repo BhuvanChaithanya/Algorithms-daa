{
  "nbformat": 4,
  "nbformat_minor": 0,
  "metadata": {
    "colab": {
      "provenance": [],
      "authorship_tag": "ABX9TyPvwmQxPcKtGDZXsMBIwXbZ",
      "include_colab_link": true
    },
    "kernelspec": {
      "name": "python3",
      "display_name": "Python 3"
    },
    "language_info": {
      "name": "python"
    }
  },
  "cells": [
    {
      "cell_type": "markdown",
      "metadata": {
        "id": "view-in-github",
        "colab_type": "text"
      },
      "source": [
        "<a href=\"https://colab.research.google.com/github/BhuvanChaithanya/Algorithms-daa/blob/main/majority_element.ipynb\" target=\"_parent\"><img src=\"https://colab.research.google.com/assets/colab-badge.svg\" alt=\"Open In Colab\"/></a>"
      ]
    },
    {
      "cell_type": "code",
      "execution_count": 1,
      "metadata": {
        "id": "PGbQj70xi8nV"
      },
      "outputs": [],
      "source": [
        "def majorityElement(v: [int]) -> int:\n",
        "    # Write your code here\n",
        "    solindex=0\n",
        "    count = 0\n",
        "    maxcount = float('-inf')\n",
        "    for i  in range(len(v)):\n",
        "        x = v[i]\n",
        "        for j in range(i,len(v)):\n",
        "            if v[j]  == x:\n",
        "                count += 1\n",
        "\n",
        "        if count > maxcount:\n",
        "            solindex = i\n",
        "            maxcount = count\n",
        "\n",
        "        count = 0\n",
        "\n",
        "    if maxcount > (len(v)/2):\n",
        "        return v[solindex]"
      ]
    },
    {
      "cell_type": "code",
      "source": [
        "def maxSubarraySum(arr, n) :\n",
        "\n",
        "\t# Your code here\n",
        "    # return the answer\n",
        "    maxs = 0\n",
        "    curs = 0\n",
        "\n",
        "    for num in arr:\n",
        "        curs = max(num,curs+num)\n",
        "        maxs = max(maxs, curs)\n",
        "\n",
        "    return maxs"
      ],
      "metadata": {
        "id": "y-7hQPESi9sv"
      },
      "execution_count": 2,
      "outputs": []
    },
    {
      "cell_type": "code",
      "source": [
        "arr = [1, 2, 7, -4, 3, 2, -10, 9, 1]\n",
        "\n",
        "maxSubarraySum(arr,9)"
      ],
      "metadata": {
        "colab": {
          "base_uri": "https://localhost:8080/"
        },
        "id": "EJAgzVTaj7mu",
        "outputId": "bf756d31-93b7-4a18-ce57-26fcc2aeaa1d"
      },
      "execution_count": 3,
      "outputs": [
        {
          "output_type": "execute_result",
          "data": {
            "text/plain": [
              "11"
            ]
          },
          "metadata": {},
          "execution_count": 3
        }
      ]
    },
    {
      "cell_type": "code",
      "source": [],
      "metadata": {
        "id": "apvFm75hkIdE"
      },
      "execution_count": null,
      "outputs": []
    }
  ]
}