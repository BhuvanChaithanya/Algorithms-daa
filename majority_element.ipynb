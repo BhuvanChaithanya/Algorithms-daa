{
  "nbformat": 4,
  "nbformat_minor": 0,
  "metadata": {
    "colab": {
      "provenance": [],
      "authorship_tag": "ABX9TyM/ghZuZXyJhKpdJwYbV53Z",
      "include_colab_link": true
    },
    "kernelspec": {
      "name": "python3",
      "display_name": "Python 3"
    },
    "language_info": {
      "name": "python"
    }
  },
  "cells": [
    {
      "cell_type": "markdown",
      "metadata": {
        "id": "view-in-github",
        "colab_type": "text"
      },
      "source": [
        "<a href=\"https://colab.research.google.com/github/BhuvanChaithanya/Algorithms-daa/blob/main/majority_element.ipynb\" target=\"_parent\"><img src=\"https://colab.research.google.com/assets/colab-badge.svg\" alt=\"Open In Colab\"/></a>"
      ]
    },
    {
      "cell_type": "code",
      "execution_count": 1,
      "metadata": {
        "id": "PGbQj70xi8nV"
      },
      "outputs": [],
      "source": [
        "def majorityElement(v: [int]) -> int:\n",
        "    # Write your code here\n",
        "    solindex=0\n",
        "    count = 0\n",
        "    maxcount = float('-inf')\n",
        "    for i  in range(len(v)):\n",
        "        x = v[i]\n",
        "        for j in range(i,len(v)):\n",
        "            if v[j]  == x:\n",
        "                count += 1\n",
        "\n",
        "        if count > maxcount:\n",
        "            solindex = i\n",
        "            maxcount = count\n",
        "\n",
        "        count = 0\n",
        "\n",
        "    if maxcount > (len(v)/2):\n",
        "        return v[solindex]"
      ]
    },
    {
      "cell_type": "code",
      "source": [],
      "metadata": {
        "id": "y-7hQPESi9sv"
      },
      "execution_count": null,
      "outputs": []
    }
  ]
}