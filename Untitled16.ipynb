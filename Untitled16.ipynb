{
  "nbformat": 4,
  "nbformat_minor": 0,
  "metadata": {
    "colab": {
      "provenance": [],
      "authorship_tag": "ABX9TyM47TsnDPLC8BXksBbR6gdM",
      "include_colab_link": true
    },
    "kernelspec": {
      "name": "python3",
      "display_name": "Python 3"
    },
    "language_info": {
      "name": "python"
    }
  },
  "cells": [
    {
      "cell_type": "markdown",
      "metadata": {
        "id": "view-in-github",
        "colab_type": "text"
      },
      "source": [
        "<a href=\"https://colab.research.google.com/github/BhuvanChaithanya/Algorithms-daa/blob/main/Untitled16.ipynb\" target=\"_parent\"><img src=\"https://colab.research.google.com/assets/colab-badge.svg\" alt=\"Open In Colab\"/></a>"
      ]
    },
    {
      "cell_type": "code",
      "execution_count": 1,
      "metadata": {
        "id": "3Fo7Yl92h5am"
      },
      "outputs": [],
      "source": [
        "class Solution:\n",
        "    def count(self, coins, n, sum):\n",
        "        dp = [[0 for _ in range(sum+1)] for _ in range(n+1)]\n",
        "\n",
        "        for i in range(n+1):\n",
        "            dp[i][0] = 1\n",
        "\n",
        "        for i in range(1,n+1):\n",
        "            for j in range(1, sum+1):\n",
        "                if coins[i-1] > j:\n",
        "                    dp[i][j] = dp[i-1][j]\n",
        "\n",
        "                else:\n",
        "                    dp[i][j] = dp[i-1][j] +dp [i][j - coins[i-1]]\n",
        "\n",
        "        return dp[n][sum]"
      ]
    },
    {
      "cell_type": "code",
      "source": [],
      "metadata": {
        "id": "X_3qJtswh6gu"
      },
      "execution_count": null,
      "outputs": []
    }
  ]
}