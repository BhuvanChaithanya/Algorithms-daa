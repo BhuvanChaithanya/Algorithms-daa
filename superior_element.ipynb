{
  "nbformat": 4,
  "nbformat_minor": 0,
  "metadata": {
    "colab": {
      "provenance": [],
      "authorship_tag": "ABX9TyM2CLKQ7yUuqZgBLtMlAIPJ",
      "include_colab_link": true
    },
    "kernelspec": {
      "name": "python3",
      "display_name": "Python 3"
    },
    "language_info": {
      "name": "python"
    }
  },
  "cells": [
    {
      "cell_type": "markdown",
      "metadata": {
        "id": "view-in-github",
        "colab_type": "text"
      },
      "source": [
        "<a href=\"https://colab.research.google.com/github/BhuvanChaithanya/Algorithms-daa/blob/main/superior_element.ipynb\" target=\"_parent\"><img src=\"https://colab.research.google.com/assets/colab-badge.svg\" alt=\"Open In Colab\"/></a>"
      ]
    },
    {
      "cell_type": "code",
      "execution_count": 1,
      "metadata": {
        "id": "DJTS14UVStts"
      },
      "outputs": [],
      "source": [
        "from typing import *\n",
        "\n",
        "def superiorElements(a : List[int]) -> List[int]:\n",
        "    # Write your code here.\n",
        "    s = []\n",
        "    n = len(a)\n",
        "    m =0\n",
        "    for i in range(n-1,-1,-1):\n",
        "        if (a[i] > m):\n",
        "            s.append(a[i])\n",
        "        m = max(m,a[i])\n",
        "\n",
        "    return s"
      ]
    },
    {
      "cell_type": "code",
      "source": [],
      "metadata": {
        "id": "UWb8QNZlSun0"
      },
      "execution_count": null,
      "outputs": []
    }
  ]
}