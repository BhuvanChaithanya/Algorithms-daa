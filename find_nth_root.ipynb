{
  "nbformat": 4,
  "nbformat_minor": 0,
  "metadata": {
    "colab": {
      "provenance": [],
      "authorship_tag": "ABX9TyOEpq+kj27EpwDZzu/qHd1i",
      "include_colab_link": true
    },
    "kernelspec": {
      "name": "python3",
      "display_name": "Python 3"
    },
    "language_info": {
      "name": "python"
    }
  },
  "cells": [
    {
      "cell_type": "markdown",
      "metadata": {
        "id": "view-in-github",
        "colab_type": "text"
      },
      "source": [
        "<a href=\"https://colab.research.google.com/github/BhuvanChaithanya/Algorithms-daa/blob/main/find_nth_root.ipynb\" target=\"_parent\"><img src=\"https://colab.research.google.com/assets/colab-badge.svg\" alt=\"Open In Colab\"/></a>"
      ]
    },
    {
      "cell_type": "code",
      "execution_count": 1,
      "metadata": {
        "colab": {
          "base_uri": "https://localhost:8080/"
        },
        "id": "Mr0oTvJ8qEFg",
        "outputId": "2731d702-e360-4b98-e549-d9a3fb97ba3b"
      },
      "outputs": [
        {
          "output_type": "stream",
          "name": "stdout",
          "text": [
            "The answer is: 3\n"
          ]
        }
      ],
      "source": [
        "\n",
        "\n",
        "\n",
        "def func(mid, n, m):\n",
        "    ans = 1\n",
        "    for i in range(1, n + 1):\n",
        "        ans *= mid\n",
        "        if ans > m:\n",
        "            return 2\n",
        "    if ans == m:\n",
        "        return 1\n",
        "    return 0\n",
        "\n",
        "def NthRoot(n: int, m: int) -> int:\n",
        "    low = 1\n",
        "    high = m\n",
        "    while low <= high:\n",
        "        mid = (low + high) // 2\n",
        "        midN = func(mid, n, m)\n",
        "        if midN == 1:\n",
        "            return mid\n",
        "        elif midN == 0:\n",
        "            low = mid + 1\n",
        "        else:\n",
        "            high = mid - 1\n",
        "    return -1\n",
        "\n",
        "n = 3\n",
        "m = 27\n",
        "ans = NthRoot(n, m)\n",
        "print(\"The answer is:\", ans)\n"
      ]
    },
    {
      "cell_type": "code",
      "source": [],
      "metadata": {
        "id": "bRQgikiLqJT0"
      },
      "execution_count": null,
      "outputs": []
    }
  ]
}