{
  "nbformat": 4,
  "nbformat_minor": 0,
  "metadata": {
    "colab": {
      "provenance": [],
      "authorship_tag": "ABX9TyOGht2pnRva2ju1psqXvZRz",
      "include_colab_link": true
    },
    "kernelspec": {
      "name": "python3",
      "display_name": "Python 3"
    },
    "language_info": {
      "name": "python"
    }
  },
  "cells": [
    {
      "cell_type": "markdown",
      "metadata": {
        "id": "view-in-github",
        "colab_type": "text"
      },
      "source": [
        "<a href=\"https://colab.research.google.com/github/BhuvanChaithanya/Algorithms-daa/blob/main/Count_occurences.ipynb\" target=\"_parent\"><img src=\"https://colab.research.google.com/assets/colab-badge.svg\" alt=\"Open In Colab\"/></a>"
      ]
    },
    {
      "cell_type": "code",
      "execution_count": 1,
      "metadata": {
        "id": "yqhToZSpGFAV"
      },
      "outputs": [],
      "source": [
        "def count(arr: [int], n: int, x: int) -> int:\n",
        "    # Your code goes here\n",
        "    first = -1\n",
        "    last = -1\n",
        "    low = 0\n",
        "    high = len(arr) -1\n",
        "\n",
        "    while(low <= high):\n",
        "        mid = (low +high)//2\n",
        "        if (arr[mid] == x):\n",
        "            first = mid\n",
        "            high = mid-1\n",
        "\n",
        "        elif(arr[mid] < x):\n",
        "            low = mid+1\n",
        "        else:\n",
        "            high = mid-1\n",
        "\n",
        "    low = 0\n",
        "    high = len(arr) -1\n",
        "    while(low <= high):\n",
        "        mid = (low+high)//2\n",
        "        if (arr[mid]==x):\n",
        "            last = mid\n",
        "            low = mid+1\n",
        "        elif(arr[mid] <x):\n",
        "            low = mid +1\n",
        "        else:\n",
        "            high = mid-1\n",
        "\n",
        "    if first == -1:\n",
        "        return 0\n",
        "    else:\n",
        "        return (last - first)+1\n"
      ]
    },
    {
      "cell_type": "code",
      "source": [],
      "metadata": {
        "id": "-hgEEgfJL9h3"
      },
      "execution_count": null,
      "outputs": []
    }
  ]
}