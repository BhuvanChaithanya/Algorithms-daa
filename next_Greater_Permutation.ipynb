{
  "nbformat": 4,
  "nbformat_minor": 0,
  "metadata": {
    "colab": {
      "provenance": [],
      "authorship_tag": "ABX9TyP3Zo+u4SI4dVpOJDLXa52M",
      "include_colab_link": true
    },
    "kernelspec": {
      "name": "python3",
      "display_name": "Python 3"
    },
    "language_info": {
      "name": "python"
    }
  },
  "cells": [
    {
      "cell_type": "markdown",
      "metadata": {
        "id": "view-in-github",
        "colab_type": "text"
      },
      "source": [
        "<a href=\"https://colab.research.google.com/github/BhuvanChaithanya/Algorithms-daa/blob/main/next_Greater_Permutation.ipynb\" target=\"_parent\"><img src=\"https://colab.research.google.com/assets/colab-badge.svg\" alt=\"Open In Colab\"/></a>"
      ]
    },
    {
      "cell_type": "code",
      "execution_count": 2,
      "metadata": {
        "id": "vFA94PX8dstA"
      },
      "outputs": [],
      "source": [
        "from typing import List\n",
        "\n",
        "def nextGreaterPermutation(A: List[int]) -> List[int]:\n",
        "    n = len(A)\n",
        "    min1 = float('inf')\n",
        "    min1id = -1\n",
        "    ind = -1\n",
        "    x = []*n\n",
        "    for i in range(n-2, -1, -1):\n",
        "        if A[i] < A[i+1]:\n",
        "            ind = i\n",
        "            break\n",
        "    if ind == -1:\n",
        "        return A[::-1]\n",
        "    for i in range(ind+1, n):\n",
        "        if A[i] > A[ind]:\n",
        "            min1 = min(min1, A[i])\n",
        "            min1id = i\n",
        "    A[ind], A[min1id] = A[min1id], A[ind]\n",
        "    A[ind+1:] = A[ind+1:][::-1]\n",
        "\n",
        "    return A"
      ]
    },
    {
      "cell_type": "code",
      "source": [],
      "metadata": {
        "id": "FXqnTTMVdtZK"
      },
      "execution_count": null,
      "outputs": []
    }
  ]
}