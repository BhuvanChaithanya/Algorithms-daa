{
  "nbformat": 4,
  "nbformat_minor": 0,
  "metadata": {
    "colab": {
      "provenance": [],
      "authorship_tag": "ABX9TyMb2ltBX8ACNmR3OkmrcXUV",
      "include_colab_link": true
    },
    "kernelspec": {
      "name": "python3",
      "display_name": "Python 3"
    },
    "language_info": {
      "name": "python"
    }
  },
  "cells": [
    {
      "cell_type": "markdown",
      "metadata": {
        "id": "view-in-github",
        "colab_type": "text"
      },
      "source": [
        "<a href=\"https://colab.research.google.com/github/BhuvanChaithanya/Algorithms-daa/blob/main/%5Dfirst_and_last_accurance.ipynb\" target=\"_parent\"><img src=\"https://colab.research.google.com/assets/colab-badge.svg\" alt=\"Open In Colab\"/></a>"
      ]
    },
    {
      "cell_type": "code",
      "execution_count": 1,
      "metadata": {
        "id": "TXFf596tkqWN"
      },
      "outputs": [],
      "source": [
        "def firstOccurrence(arr, n, k):\n",
        "    low = 0\n",
        "    high = n - 1\n",
        "    first = -1\n",
        "\n",
        "    while low <= high:\n",
        "        mid = (low + high) // 2\n",
        "        # maybe an answer\n",
        "        if arr[mid] == k:\n",
        "            first = mid\n",
        "            # look for smaller index on the left\n",
        "            high = mid - 1\n",
        "        elif arr[mid] < k:\n",
        "            low = mid + 1  # look on the right\n",
        "        else:\n",
        "            high = mid - 1  # look on the left\n",
        "\n",
        "    return first\n",
        "\n",
        "\n",
        "def lastOccurrence(arr, n, k):\n",
        "    low = 0\n",
        "    high = n - 1\n",
        "    last = -1\n",
        "\n",
        "    while low <= high:\n",
        "        mid = (low + high) // 2\n",
        "        # maybe an answer\n",
        "        if arr[mid] == k:\n",
        "            last = mid\n",
        "            # look for larger index on the right\n",
        "            low = mid + 1\n",
        "        elif arr[mid] < k:\n",
        "            low = mid + 1  # look on the right\n",
        "        else:\n",
        "            high = mid - 1  # look on the left\n",
        "\n",
        "    return last\n",
        "\n",
        "\n",
        "def firstAndLastPosition(arr, n, k):\n",
        "    first = firstOccurrence(arr, n, k)\n",
        "    if first == -1:\n",
        "        return (-1, -1)\n",
        "    last = lastOccurrence(arr, n, k)\n",
        "    return (first, last)\n",
        "\n",
        "if __name__ == \"__main__\":\n",
        "    arr = [2, 4, 6, 8, 8, 8, 11, 13]\n",
        "    n = 8\n",
        "    k = 8\n",
        "    ans = firstAndLastPosition(arr, n, k)\n",
        "    print(\"The first and last positions are:\", ans[0], ans[1])"
      ]
    },
    {
      "cell_type": "code",
      "source": [],
      "metadata": {
        "id": "WFf6PYP1nj0w"
      },
      "execution_count": null,
      "outputs": []
    }
  ]
}