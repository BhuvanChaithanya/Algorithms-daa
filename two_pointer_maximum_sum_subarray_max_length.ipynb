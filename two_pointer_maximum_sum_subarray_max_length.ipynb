{
  "nbformat": 4,
  "nbformat_minor": 0,
  "metadata": {
    "colab": {
      "provenance": [],
      "authorship_tag": "ABX9TyNIBJ2LjoCtYsZsqndyLeSz",
      "include_colab_link": true
    },
    "kernelspec": {
      "name": "python3",
      "display_name": "Python 3"
    },
    "language_info": {
      "name": "python"
    }
  },
  "cells": [
    {
      "cell_type": "markdown",
      "metadata": {
        "id": "view-in-github",
        "colab_type": "text"
      },
      "source": [
        "<a href=\"https://colab.research.google.com/github/BhuvanChaithanya/Algorithms-daa/blob/main/two_pointer_maximum_sum_subarray_max_length.ipynb\" target=\"_parent\"><img src=\"https://colab.research.google.com/assets/colab-badge.svg\" alt=\"Open In Colab\"/></a>"
      ]
    },
    {
      "cell_type": "code",
      "execution_count": 1,
      "metadata": {
        "id": "t0-eullhbopF"
      },
      "outputs": [],
      "source": [
        "def longestSubarrayWithSumK(a: [int], k: int) -> int:\n",
        "    # Write your code here\n",
        "    sum1 = 0\n",
        "    maxlen = -1\n",
        "    i = j = 0\n",
        "\n",
        "    while i<len(a) and j<len(a):\n",
        "        if a[j] == 0:\n",
        "            j +=1\n",
        "        elif sum1< k:\n",
        "            sum1 += a[j]\n",
        "            j +=1\n",
        "\n",
        "        elif sum1 == k:\n",
        "            if (j-i  > maxlen):\n",
        "                maxlen = j-i\n",
        "            i += 1\n",
        "            j = i\n",
        "            sum1 =0\n",
        "\n",
        "        elif sum1 > k:\n",
        "            i+= 1\n",
        "            j = i\n",
        "            sum1 = 0\n",
        "\n",
        "    return maxlen\n"
      ]
    },
    {
      "cell_type": "code",
      "source": [],
      "metadata": {
        "id": "wW2iXyGCb2J2"
      },
      "execution_count": null,
      "outputs": []
    }
  ]
}