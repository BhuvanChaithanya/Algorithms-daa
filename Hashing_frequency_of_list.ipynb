{
  "nbformat": 4,
  "nbformat_minor": 0,
  "metadata": {
    "colab": {
      "provenance": [],
      "authorship_tag": "ABX9TyNJMcidB/AysnZw7Jrs08ur",
      "include_colab_link": true
    },
    "kernelspec": {
      "name": "python3",
      "display_name": "Python 3"
    },
    "language_info": {
      "name": "python"
    }
  },
  "cells": [
    {
      "cell_type": "markdown",
      "metadata": {
        "id": "view-in-github",
        "colab_type": "text"
      },
      "source": [
        "<a href=\"https://colab.research.google.com/github/BhuvanChaithanya/Algorithms-daa/blob/main/Hashing_frequency_of_list.ipynb\" target=\"_parent\"><img src=\"https://colab.research.google.com/assets/colab-badge.svg\" alt=\"Open In Colab\"/></a>"
      ]
    },
    {
      "cell_type": "code",
      "execution_count": 1,
      "metadata": {
        "id": "BtIxHla6iL7M"
      },
      "outputs": [],
      "source": [
        "from typing import *\n",
        "\n",
        "def countFrequency(n: int, m: int, edges: List[List[int]]):\n",
        "\n",
        "    pass\n",
        "\n",
        "    frequency = [0] * n\n",
        "\n",
        "\n",
        "\n",
        "    for num in edges:\n",
        "\n",
        "\n",
        "\n",
        "        if num <= n: # Update frequency only for numbers <= n\n",
        "\n",
        "\n",
        "\n",
        "            frequency[num - 1] += 1\n",
        "\n",
        "\n",
        "\n",
        "    return frequency"
      ]
    },
    {
      "cell_type": "code",
      "source": [],
      "metadata": {
        "id": "6dJPwVn8Qor1"
      },
      "execution_count": null,
      "outputs": []
    }
  ]
}