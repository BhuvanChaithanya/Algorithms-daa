{
  "nbformat": 4,
  "nbformat_minor": 0,
  "metadata": {
    "colab": {
      "provenance": [],
      "authorship_tag": "ABX9TyNJGTVdC9r9VTf2nhOY6rK7",
      "include_colab_link": true
    },
    "kernelspec": {
      "name": "python3",
      "display_name": "Python 3"
    },
    "language_info": {
      "name": "python"
    }
  },
  "cells": [
    {
      "cell_type": "markdown",
      "metadata": {
        "id": "view-in-github",
        "colab_type": "text"
      },
      "source": [
        "<a href=\"https://colab.research.google.com/github/BhuvanChaithanya/Algorithms-daa/blob/main/Hashing_frequency_of_list.ipynb\" target=\"_parent\"><img src=\"https://colab.research.google.com/assets/colab-badge.svg\" alt=\"Open In Colab\"/></a>"
      ]
    },
    {
      "cell_type": "code",
      "execution_count": 1,
      "metadata": {
        "id": "BtIxHla6iL7M"
      },
      "outputs": [],
      "source": [
        "from typing import *\n",
        "\n",
        "def countFrequency(n: int, m: int, edges: List[List[int]]):\n",
        "\n",
        "    pass\n",
        "\n",
        "    frequency = [0] * n\n",
        "\n",
        "\n",
        "\n",
        "    for num in edges:\n",
        "\n",
        "\n",
        "\n",
        "        if num <= n: # Update frequency only for numbers <= n\n",
        "\n",
        "\n",
        "\n",
        "            frequency[num - 1] += 1\n",
        "\n",
        "\n",
        "\n",
        "    return frequency"
      ]
    },
    {
      "cell_type": "code",
      "source": [
        "from typing import List\n",
        "from collections import Counter\n",
        "\n",
        "def getFrequencies(v: List[int]) -> List[int]:\n",
        "    # Count the frequency of each element\n",
        "    freq = Counter(v)\n",
        "\n",
        "    # Find the highest and lowest frequency\n",
        "    max_freq = max(freq.values())\n",
        "    min_freq = min(freq.values())\n",
        "\n",
        "    # Find the smallest element with the highest and lowest frequency\n",
        "    max_freq_elem = min(k for k, v in freq.items() if v == max_freq)\n",
        "    min_freq_elem = min(k for k, v in freq.items() if v == min_freq)\n",
        "\n",
        "    return [max_freq_elem, min_freq_elem]\n"
      ],
      "metadata": {
        "id": "6dJPwVn8Qor1"
      },
      "execution_count": 2,
      "outputs": []
    },
    {
      "cell_type": "code",
      "source": [],
      "metadata": {
        "id": "Xprq7vnVSjHI"
      },
      "execution_count": null,
      "outputs": []
    }
  ]
}